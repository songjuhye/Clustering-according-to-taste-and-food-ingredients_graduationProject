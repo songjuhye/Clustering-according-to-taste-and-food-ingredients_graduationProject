{
  "nbformat": 4,
  "nbformat_minor": 0,
  "metadata": {
    "colab": {
      "name": "졸논_2.ipynb",
      "provenance": [],
      "collapsed_sections": [],
      "authorship_tag": "ABX9TyNpyMQWsuuN4L3u+t5oa9gg",
      "include_colab_link": true
    },
    "kernelspec": {
      "display_name": "Python 3",
      "name": "python3"
    },
    "language_info": {
      "name": "python"
    }
  },
  "cells": [
    {
      "cell_type": "markdown",
      "metadata": {
        "id": "view-in-github",
        "colab_type": "text"
      },
      "source": [
        "<a href=\"https://colab.research.google.com/github/songjuhye/Clustering-according-to-taste-and-food-ingredients_graduationProject/blob/main/%EC%A1%B8%EB%85%BC_2.ipynb\" target=\"_parent\"><img src=\"https://colab.research.google.com/assets/colab-badge.svg\" alt=\"Open In Colab\"/></a>"
      ]
    },
    {
      "cell_type": "code",
      "metadata": {
        "colab": {
          "base_uri": "https://localhost:8080/"
        },
        "id": "r4IDT6NjEijv",
        "outputId": "c290f6ba-d75d-4144-b09b-5c02cd85dc41"
      },
      "source": [
        "from google.colab import drive\n",
        "drive.mount('/content/drive')"
      ],
      "execution_count": 1,
      "outputs": [
        {
          "output_type": "stream",
          "text": [
            "Mounted at /content/drive\n"
          ],
          "name": "stdout"
        }
      ]
    },
    {
      "cell_type": "code",
      "metadata": {
        "id": "TDdSSeHPE74e"
      },
      "source": [
        "file_csv = '/content/drive/My Drive/graduation/database9.3_0.2.csv'"
      ],
      "execution_count": 2,
      "outputs": []
    },
    {
      "cell_type": "code",
      "metadata": {
        "id": "aX8p2XI2FxuA"
      },
      "source": [
        "import pandas as pd\n",
        "import numpy as np"
      ],
      "execution_count": 3,
      "outputs": []
    },
    {
      "cell_type": "code",
      "metadata": {
        "colab": {
          "base_uri": "https://localhost:8080/",
          "height": 419
        },
        "id": "7VQD-4wzHSS7",
        "outputId": "e94074ce-e622-4b04-b96f-d18965a6b96b"
      },
      "source": [
        "df = pd.read_csv(file_csv)\n",
        "df"
      ],
      "execution_count": 4,
      "outputs": [
        {
          "output_type": "execute_result",
          "data": {
            "text/html": [
              "<div>\n",
              "<style scoped>\n",
              "    .dataframe tbody tr th:only-of-type {\n",
              "        vertical-align: middle;\n",
              "    }\n",
              "\n",
              "    .dataframe tbody tr th {\n",
              "        vertical-align: top;\n",
              "    }\n",
              "\n",
              "    .dataframe thead th {\n",
              "        text-align: right;\n",
              "    }\n",
              "</style>\n",
              "<table border=\"1\" class=\"dataframe\">\n",
              "  <thead>\n",
              "    <tr style=\"text-align: right;\">\n",
              "      <th></th>\n",
              "      <th>색인(Index)</th>\n",
              "      <th>식품군(Food groups)</th>\n",
              "      <th>식품코드(Food Code)</th>\n",
              "      <th>식품명(국문)(Food and Description(Korean))</th>\n",
              "      <th>식품명(영문)(Food and Description(English))</th>\n",
              "      <th>글루탐산(Glutamic acid, GLU, mg)</th>\n",
              "    </tr>\n",
              "  </thead>\n",
              "  <tbody>\n",
              "    <tr>\n",
              "      <th>0</th>\n",
              "      <td>5</td>\n",
              "      <td>곡류및그제품</td>\n",
              "      <td>A003001A010a</td>\n",
              "      <td>기장, 찰기장, 도정, 생것</td>\n",
              "      <td>Prosomillet, Glutinous, Polished, Raw</td>\n",
              "      <td>2535</td>\n",
              "    </tr>\n",
              "    <tr>\n",
              "      <th>1</th>\n",
              "      <td>3148</td>\n",
              "      <td>곡류및그제품</td>\n",
              "      <td>A003002A010a</td>\n",
              "      <td>기장, 찰기장, 이백찰, 도정, 생것</td>\n",
              "      <td>Prosomillet, Glutinous, Ibaekchal, Polished, Raw</td>\n",
              "      <td>2359</td>\n",
              "    </tr>\n",
              "    <tr>\n",
              "      <th>2</th>\n",
              "      <td>3149</td>\n",
              "      <td>곡류및그제품</td>\n",
              "      <td>A003003A010a</td>\n",
              "      <td>기장, 찰기장, 한라찰, 도정, 생것</td>\n",
              "      <td>Prosomillet, Glutinous, Hallachal, Polished, Raw</td>\n",
              "      <td>2218</td>\n",
              "    </tr>\n",
              "    <tr>\n",
              "      <th>3</th>\n",
              "      <td>3150</td>\n",
              "      <td>곡류및그제품</td>\n",
              "      <td>A003004A010a</td>\n",
              "      <td>기장, 찰기장, 황실찰, 도정, 생것</td>\n",
              "      <td>Prosomillet, Glutinous, Hwangsilchal, Polished...</td>\n",
              "      <td>2798</td>\n",
              "    </tr>\n",
              "    <tr>\n",
              "      <th>4</th>\n",
              "      <td>6</td>\n",
              "      <td>곡류및그제품</td>\n",
              "      <td>A004000A010a</td>\n",
              "      <td>메밀, 도정, 생것</td>\n",
              "      <td>Buckwheat, Polished, Raw</td>\n",
              "      <td>2386</td>\n",
              "    </tr>\n",
              "    <tr>\n",
              "      <th>...</th>\n",
              "      <td>...</td>\n",
              "      <td>...</td>\n",
              "      <td>...</td>\n",
              "      <td>...</td>\n",
              "      <td>...</td>\n",
              "      <td>...</td>\n",
              "    </tr>\n",
              "    <tr>\n",
              "      <th>1598</th>\n",
              "      <td>2993</td>\n",
              "      <td>기타</td>\n",
              "      <td>T021003000Na</td>\n",
              "      <td>인삼, 홍삼, 추출</td>\n",
              "      <td>Korean ginseng(Panax ginseng C. A. Mey.), Red ...</td>\n",
              "      <td>27</td>\n",
              "    </tr>\n",
              "    <tr>\n",
              "      <th>1599</th>\n",
              "      <td>3147</td>\n",
              "      <td>기타</td>\n",
              "      <td>T0300002601a</td>\n",
              "      <td>장수풍뎅이, 유충, 말린것</td>\n",
              "      <td>Allomyrina dichotoma, Larva, Dried</td>\n",
              "      <td>912</td>\n",
              "    </tr>\n",
              "    <tr>\n",
              "      <th>1600</th>\n",
              "      <td>2997</td>\n",
              "      <td>기타</td>\n",
              "      <td>T0250030001a</td>\n",
              "      <td>팽창제, 효모, 말린것</td>\n",
              "      <td>Leavening agent, Yeast, Dried</td>\n",
              "      <td>5900</td>\n",
              "    </tr>\n",
              "    <tr>\n",
              "      <th>1601</th>\n",
              "      <td>2999</td>\n",
              "      <td>기타</td>\n",
              "      <td>T0290002601a</td>\n",
              "      <td>흰점박이 꽃무지, 유충, 말린것</td>\n",
              "      <td>Protaetia brevitarsis, Larva, Dried</td>\n",
              "      <td>6400</td>\n",
              "    </tr>\n",
              "    <tr>\n",
              "      <th>1602</th>\n",
              "      <td>3000</td>\n",
              "      <td>기타</td>\n",
              "      <td>T0290002600a</td>\n",
              "      <td>흰점박이 꽃무지, 유충, 생것</td>\n",
              "      <td>Protaetia brevitarsis, Larva, Raw</td>\n",
              "      <td>1966</td>\n",
              "    </tr>\n",
              "  </tbody>\n",
              "</table>\n",
              "<p>1603 rows × 6 columns</p>\n",
              "</div>"
            ],
            "text/plain": [
              "      색인(Index)  ... 글루탐산(Glutamic acid, GLU, mg)\n",
              "0             5  ...                         2535\n",
              "1          3148  ...                         2359\n",
              "2          3149  ...                         2218\n",
              "3          3150  ...                         2798\n",
              "4             6  ...                         2386\n",
              "...         ...  ...                          ...\n",
              "1598       2993  ...                           27\n",
              "1599       3147  ...                          912\n",
              "1600       2997  ...                         5900\n",
              "1601       2999  ...                         6400\n",
              "1602       3000  ...                         1966\n",
              "\n",
              "[1603 rows x 6 columns]"
            ]
          },
          "metadata": {
            "tags": []
          },
          "execution_count": 4
        }
      ]
    },
    {
      "cell_type": "code",
      "metadata": {
        "colab": {
          "base_uri": "https://localhost:8080/"
        },
        "id": "up9h9QD2ViMD",
        "outputId": "75d068cb-581b-4466-827b-0a8bd6344543"
      },
      "source": [
        "print(df.iloc[:, 5])"
      ],
      "execution_count": 5,
      "outputs": [
        {
          "output_type": "stream",
          "text": [
            "0       2535\n",
            "1       2359\n",
            "2       2218\n",
            "3       2798\n",
            "4       2386\n",
            "        ... \n",
            "1598      27\n",
            "1599     912\n",
            "1600    5900\n",
            "1601    6400\n",
            "1602    1966\n",
            "Name: 글루탐산(Glutamic acid, GLU, mg), Length: 1603, dtype: int64\n"
          ],
          "name": "stdout"
        }
      ]
    },
    {
      "cell_type": "code",
      "metadata": {
        "colab": {
          "base_uri": "https://localhost:8080/"
        },
        "id": "ne1TkNxHbodn",
        "outputId": "088d63f7-9ec2-41c2-d9d2-b27a9c555519"
      },
      "source": [
        "variation = df['글루탐산(Glutamic acid, GLU, mg)'].var()\n",
        "\n",
        "print(variation)"
      ],
      "execution_count": 6,
      "outputs": [
        {
          "output_type": "stream",
          "text": [
            "2798967.023341068\n"
          ],
          "name": "stdout"
        }
      ]
    },
    {
      "cell_type": "code",
      "metadata": {
        "id": "a9JfCfkpY7ye"
      },
      "source": [
        "X = df.iloc[:,5]\n",
        "Y = X"
      ],
      "execution_count": 7,
      "outputs": []
    },
    {
      "cell_type": "code",
      "metadata": {
        "colab": {
          "base_uri": "https://localhost:8080/",
          "height": 283
        },
        "id": "Fp40zrOyZQLi",
        "outputId": "8a593a1f-2908-4f32-8e18-b20f04106f74"
      },
      "source": [
        "import matplotlib.pyplot as plt\n",
        "\n",
        "plt.scatter(X, Y)\n",
        "plt.legend()\n",
        "plt.show()"
      ],
      "execution_count": 8,
      "outputs": [
        {
          "output_type": "stream",
          "text": [
            "No handles with labels found to put in legend.\n"
          ],
          "name": "stderr"
        },
        {
          "output_type": "display_data",
          "data": {
            "image/png": "[encoded data removed]",
            "text/plain": [
              "<Figure size 432x288 with 1 Axes>"
            ]
          },
          "metadata": {
            "tags": [],
            "needs_background": "light"
          }
        }
      ]
    },
    {
      "cell_type": "code",
      "metadata": {
        "colab": {
          "base_uri": "https://localhost:8080/",
          "height": 374
        },
        "id": "lr7F2tQtaRqZ",
        "outputId": "bf87ffbe-e65c-49a0-f81c-f023dad9aa3e"
      },
      "source": [
        "plt.figure(figsize=(10, 6))\n",
        "plt.hist(X, bins=10, alpha=0.4)\n",
        "plt.show()"
      ],
      "execution_count": 9,
      "outputs": [
        {
          "output_type": "display_data",
          "data": {
            "image/png": "[encoded data removed]",
            "text/plain": [
              "<Figure size 720x432 with 1 Axes>"
            ]
          },
          "metadata": {
            "tags": [],
            "needs_background": "light"
          }
        }
      ]
    },
    {
      "cell_type": "code",
      "metadata": {
        "colab": {
          "base_uri": "https://localhost:8080/",
          "height": 283
        },
        "id": "bobnVPcSYDF3",
        "outputId": "3e8cb2dc-b583-4b12-f0f5-2cd7f35bb0a9"
      },
      "source": [
        "z = np.float32(X)\n",
        "print(type(z))\n",
        "plt.hist(z)\n",
        "plt.show()"
      ],
      "execution_count": 10,
      "outputs": [
        {
          "output_type": "stream",
          "text": [
            "<class 'numpy.ndarray'>\n"
          ],
          "name": "stdout"
        },
        {
          "output_type": "display_data",
          "data": {
            "image/png": "[encoded data removed]",
            "text/plain": [
              "<Figure size 432x288 with 1 Axes>"
            ]
          },
          "metadata": {
            "tags": [],
            "needs_background": "light"
          }
        }
      ]
    },
    {
      "cell_type": "code",
      "metadata": {
        "colab": {
          "base_uri": "https://localhost:8080/",
          "height": 320
        },
        "id": "l3YP8XUneOaH",
        "outputId": "16f0300d-b619-4335-9f05-59b86146059c"
      },
      "source": [
        "from scipy.spatial.distance import pdist\n",
        "from scipy.cluster.hierarchy import linkage\n",
        "from scipy.cluster.hierarchy import dendrogram\n",
        "\n",
        "Xdist = pdist([X, X], metric='euclidean')\n",
        "Z = linkage(Xdist, method='ward')\n",
        "Zd = dendrogram(Z)\n",
        "plt.title('Dendrogram')\n",
        "plt.show()"
      ],
      "execution_count": 11,
      "outputs": [
        {
          "output_type": "stream",
          "text": [
            "/usr/local/lib/python3.7/dist-packages/scipy/cluster/hierarchy.py:2834: UserWarning: Attempting to set identical bottom == top == 0 results in singular transformations; automatically expanding.\n",
            "  ax.set_ylim([0, dvw])\n"
          ],
          "name": "stderr"
        },
        {
          "output_type": "display_data",
          "data": {
            "image/png": "[encoded data removed]",
            "text/plain": [
              "<Figure size 432x288 with 1 Axes>"
            ]
          },
          "metadata": {
            "tags": [],
            "needs_background": "light"
          }
        }
      ]
    },
    {
      "cell_type": "code",
      "metadata": {
        "colab": {
          "base_uri": "https://localhost:8080/"
        },
        "id": "Gca8N8mhUm_u",
        "outputId": "4ef27392-c984-47be-84fc-c3790698064d"
      },
      "source": [
        "X = np.array(X)\n",
        "print(X.ndim) # 배열의 차원\n",
        "print(X.shape) # 배열의 크기\n",
        "print(type(X)) # X의 형\n",
        "print(type([X,X]))\n",
        "arr = [X,Y]\n",
        "arr = np.array(arr)\n",
        "print(type(arr))\n",
        "print('바꾸기전 행렬 크기 : ', arr.shape)\n",
        "arr = np.transpose(arr)\n",
        "print('바꾼 행렬 크기 : ', arr.shape)\n",
        "print(arr[:,0].shape)\n",
        "print(arr)"
      ],
      "execution_count": 12,
      "outputs": [
        {
          "output_type": "stream",
          "text": [
            "1\n",
            "(1603,)\n",
            "<class 'numpy.ndarray'>\n",
            "<class 'list'>\n",
            "<class 'numpy.ndarray'>\n",
            "바꾸기전 행렬 크기 :  (2, 1603)\n",
            "바꾼 행렬 크기 :  (1603, 2)\n",
            "(1603,)\n",
            "[[2535 2535]\n",
            " [2359 2359]\n",
            " [2218 2218]\n",
            " ...\n",
            " [5900 5900]\n",
            " [6400 6400]\n",
            " [1966 1966]]\n"
          ],
          "name": "stdout"
        }
      ]
    },
    {
      "cell_type": "code",
      "metadata": {
        "colab": {
          "base_uri": "https://localhost:8080/",
          "height": 301
        },
        "id": "ZMRGKBpGiqKM",
        "outputId": "3cda5f87-d713-4b9f-902f-599ba0213453"
      },
      "source": [
        "from sklearn.cluster import KMeans\n",
        "\n",
        "kmeans = KMeans(n_clusters=5, init='k-means++', max_iter=300, n_init=10, random_state=0)\n",
        "pred_y = kmeans.fit_predict(arr) #수정 필요. 공부도...\n",
        "print(kmeans.labels_) # 이거 왜 [0,0]으로 출력되냐;;;\n",
        "colormap = np.array(['c', 'g', 'b', 'm', 'r'])\n",
        "print(arr[:1])\n",
        "plt.scatter(arr[:0], arr[:0])\n",
        "plt.show()"
      ],
      "execution_count": 13,
      "outputs": [
        {
          "output_type": "stream",
          "text": [
            "[3 3 0 ... 4 4 0]\n",
            "[[2535 2535]]\n"
          ],
          "name": "stdout"
        },
        {
          "output_type": "display_data",
          "data": {
            "image/png": "[encoded data removed]",
            "text/plain": [
              "<Figure size 432x288 with 1 Axes>"
            ]
          },
          "metadata": {
            "tags": [],
            "needs_background": "light"
          }
        }
      ]
    },
    {
      "cell_type": "code",
      "metadata": {
        "colab": {
          "base_uri": "https://localhost:8080/",
          "height": 389
        },
        "id": "OFqtzHf-fIdB",
        "outputId": "13321f51-32e9-414a-fcb4-08619256d9cb"
      },
      "source": [
        "from sklearn.cluster import KMeans\n",
        "\n",
        "kmeans = KMeans(n_clusters=5, init='k-means++', max_iter=300, n_init=10, random_state=0)\n",
        "pred_y = kmeans.fit_predict(arr) #수정 필요. 공부도...\n",
        "print(kmeans.labels_) # 이거 왜 [0,0]으로 출력되냐;;;\n",
        "colormap = np.array(['c', 'g', 'b', 'm', 'y'])\n",
        "#plt.scatter(arr[:0], arr[:0], s=5)\n",
        "plt.scatter(arr[:,0], arr[:,0], s=5, c=colormap[pred_y])\n",
        "print(kmeans.cluster_centers_)\n",
        "plt.scatter(kmeans.cluster_centers_[:,0], kmeans.cluster_centers_[:,1], s=100, c='red')\n",
        "plt.title('Clustering Results with Centers')\n",
        "plt.show()"
      ],
      "execution_count": 14,
      "outputs": [
        {
          "output_type": "stream",
          "text": [
            "[3 3 0 ... 4 4 0]\n",
            "[[1637.87828947 1637.87828947]\n",
            " [ 274.03121248  274.03121248]\n",
            " [8222.72727273 8222.72727273]\n",
            " [3061.06725146 3061.06725146]\n",
            " [4831.54901961 4831.54901961]]\n"
          ],
          "name": "stdout"
        },
        {
          "output_type": "display_data",
          "data": {
            "image/png": "[encoded data removed]",
            "text/plain": [
              "<Figure size 432x288 with 1 Axes>"
            ]
          },
          "metadata": {
            "tags": [],
            "needs_background": "light"
          }
        }
      ]
    },
    {
      "cell_type": "code",
      "metadata": {
        "colab": {
          "base_uri": "https://localhost:8080/",
          "height": 407
        },
        "id": "fFLvOFeLkIp6",
        "outputId": "80cc7eb5-992d-4536-8af2-95289426b41e"
      },
      "source": [
        "from sklearn.cluster import KMeans\n",
        "\n",
        "kmeans = KMeans(n_clusters=6, init='k-means++', max_iter=300, n_init=10, random_state=0)\n",
        "pred_y = kmeans.fit_predict(arr) #수정 필요. 공부도...\n",
        "print(kmeans.labels_) # 이거 왜 [0,0]으로 출력되냐;;;\n",
        "colormap = np.array(['c', 'g', 'b', 'm', 'y', 'm'])\n",
        "#plt.scatter(arr[:0], arr[:0], s=5)\n",
        "plt.scatter(arr[:,0], arr[:,0], s=5, c=colormap[pred_y])\n",
        "print(kmeans.cluster_centers_)\n",
        "plt.scatter(kmeans.cluster_centers_[:,0], kmeans.cluster_centers_[:,1], s=100, c='red')\n",
        "plt.title('Clustering Results with Centers')\n",
        "plt.show()"
      ],
      "execution_count": 15,
      "outputs": [
        {
          "output_type": "stream",
          "text": [
            "[1 1 3 ... 2 2 3]\n",
            "[[  270.01690821   270.01690821]\n",
            " [ 2945.87461774  2945.87461774]\n",
            " [ 6621.16216216  6621.16216216]\n",
            " [ 1584.67353952  1584.67353952]\n",
            " [ 4335.2         4335.2       ]\n",
            " [11048.         11048.        ]]\n"
          ],
          "name": "stdout"
        },
        {
          "output_type": "display_data",
          "data": {
            "image/png": "[encoded data removed]",
            "text/plain": [
              "<Figure size 432x288 with 1 Axes>"
            ]
          },
          "metadata": {
            "tags": [],
            "needs_background": "light"
          }
        }
      ]
    },
    {
      "cell_type": "code",
      "metadata": {
        "id": "OyNsdPCVcsp-",
        "colab": {
          "base_uri": "https://localhost:8080/"
        },
        "outputId": "f01db13f-b2fe-4981-cb7a-8390e4824f2a"
      },
      "source": [
        "from sklearn.datasets.samples_generator import make_blobs\n",
        "\n",
        "a, b = make_blobs(n_samples=300, centers=4, cluster_std=0.06, random_state=0)\n",
        "print(a.shape)\n",
        "print(b.shape)\n",
        "print(type(a))\n",
        "print(type(b))"
      ],
      "execution_count": 16,
      "outputs": [
        {
          "output_type": "stream",
          "text": [
            "(300, 2)\n",
            "(300,)\n",
            "<class 'numpy.ndarray'>\n",
            "<class 'numpy.ndarray'>\n"
          ],
          "name": "stdout"
        },
        {
          "output_type": "stream",
          "text": [
            "/usr/local/lib/python3.7/dist-packages/sklearn/utils/deprecation.py:144: FutureWarning: The sklearn.datasets.samples_generator module is  deprecated in version 0.22 and will be removed in version 0.24. The corresponding classes / functions should instead be imported from sklearn.datasets. Anything that cannot be imported from sklearn.datasets is now part of the private API.\n",
            "  warnings.warn(message, FutureWarning)\n"
          ],
          "name": "stderr"
        }
      ]
    },
    {
      "cell_type": "code",
      "metadata": {
        "colab": {
          "base_uri": "https://localhost:8080/"
        },
        "id": "B4caYP4gXHGa",
        "outputId": "4d31282c-1ea9-49aa-fd08-902613ef8c59"
      },
      "source": [
        "inertia_arr = []\n",
        "\n",
        "k_range = range(2, 16)\n",
        "\n",
        "for k in k_range:\n",
        "  kmeans = KMeans(n_clusters=k, random_state=200)\n",
        "  kmeans.fit(arr)\n",
        "  interia = kmeans.inertia_\n",
        "  print('k : ', k, '  ', 'cost : ', interia)\n",
        "  inertia_arr.append(interia)\n",
        "\n",
        "inertia_arr = np.array(inertia_arr)"
      ],
      "execution_count": 17,
      "outputs": [
        {
          "output_type": "stream",
          "text": [
            "k :  2    cost :  2734478529.5316944\n",
            "k :  3    cost :  1375816489.644557\n",
            "k :  4    cost :  813760713.763931\n",
            "k :  5    cost :  535106126.52533364\n",
            "k :  6    cost :  392379120.4186399\n",
            "k :  7    cost :  278789171.58977246\n",
            "k :  8    cost :  214347051.38562512\n",
            "k :  9    cost :  163477488.10542208\n",
            "k :  10    cost :  125379392.86220258\n",
            "k :  11    cost :  103373837.52140279\n",
            "k :  12    cost :  87688248.13676156\n",
            "k :  13    cost :  75300009.3432523\n",
            "k :  14    cost :  65177565.65428816\n",
            "k :  15    cost :  55256627.78144785\n"
          ],
          "name": "stdout"
        }
      ]
    },
    {
      "cell_type": "code",
      "metadata": {
        "colab": {
          "base_uri": "https://localhost:8080/",
          "height": 295
        },
        "id": "-Bf9dwkvbKXT",
        "outputId": "7d23bd17-2c6c-4a4f-ba4c-4b675d1bb432"
      },
      "source": [
        "plt.plot(k_range, inertia_arr)\n",
        "plt.vlines(2, ymin=inertia_arr.min()*0.9999, ymax=inertia_arr.max()*1.0003, linestyles='--', colors='r')\n",
        "\n",
        "plt.title('Elbow Method')\n",
        "plt.xlabel('Number of clusters')\n",
        "plt.ylabel('Inertia')\n",
        "plt.show()"
      ],
      "execution_count": 18,
      "outputs": [
        {
          "output_type": "display_data",
          "data": {
            "image/png": "[encoded data removed]",
            "text/plain": [
              "<Figure size 432x288 with 1 Axes>"
            ]
          },
          "metadata": {
            "tags": [],
            "needs_background": "light"
          }
        }
      ]
    },
    {
      "cell_type": "code",
      "metadata": {
        "colab": {
          "base_uri": "https://localhost:8080/",
          "height": 1000
        },
        "id": "Pl0TJrQqfcsV",
        "outputId": "676fe0e3-9ee5-4ee1-f0c7-6723f6ccc3de"
      },
      "source": [
        "from sklearn.metrics import silhouette_score\n",
        "\n",
        "k_range = range(2, 10)\n",
        "for k in k_range:\n",
        "  fig, (ax1, ax2) = plt.subplots(1, 2) # 한 줄에 1*2 서브그래프 생성\n",
        "  fig.set_size_inches(18, 7) # 전체 fig 사이즈 설정\n",
        "\n",
        "  #ax1.set_xlim([-0.1, 1]) # 첫번째 plot\n",
        "  clusterer = KMeans(n_clusters=k, random_state=0)\n",
        "  cluster_labels = clusterer.fit_predict(arr)\n",
        "  silhouette_avg = silhouette_score(arr, cluster_labels)\n",
        "  print(\"For n_clusters = \", k, \"The average silhouette_score is : \", silhouette_avg)\n"
      ],
      "execution_count": 19,
      "outputs": [
        {
          "output_type": "stream",
          "text": [
            "For n_clusters =  2 The average silhouette_score is :  0.6895691816660342\n",
            "For n_clusters =  3 The average silhouette_score is :  0.6907042836556162\n",
            "For n_clusters =  4 The average silhouette_score is :  0.6654695066840265\n",
            "For n_clusters =  5 The average silhouette_score is :  0.6661029073869343\n",
            "For n_clusters =  6 The average silhouette_score is :  0.6605917319164553\n",
            "For n_clusters =  7 The average silhouette_score is :  0.6392918957171975\n",
            "For n_clusters =  8 The average silhouette_score is :  0.5982554389443387\n",
            "For n_clusters =  9 The average silhouette_score is :  0.5987795037745187\n"
          ],
          "name": "stdout"
        },
        {
          "output_type": "display_data",
          "data": {
            "image/png": "[encoded data removed]",
            "text/plain": [
              "<Figure size 1296x504 with 2 Axes>"
            ]
          },
          "metadata": {
            "tags": [],
            "needs_background": "light"
          }
        },
        {
          "output_type": "display_data",
          "data": {
            "image/png": "[encoded data removed]",
            "text/plain": [
              "<Figure size 1296x504 with 2 Axes>"
            ]
          },
          "metadata": {
            "tags": [],
            "needs_background": "light"
          }
        },
        {
          "output_type": "display_data",
          "data": {
            "image/png": "[encoded data removed]",
            "text/plain": [
              "<Figure size 1296x504 with 2 Axes>"
            ]
          },
          "metadata": {
            "tags": [],
            "needs_background": "light"
          }
        },
        {
          "output_type": "display_data",
          "data": {
            "image/png": "[encoded data removed]",
            "text/plain": [
              "<Figure size 1296x504 with 2 Axes>"
            ]
          },
          "metadata": {
            "tags": [],
            "needs_background": "light"
          }
        },
        {
          "output_type": "display_data",
          "data": {
            "image/png": "[encoded data removed]",
            "text/plain": [
              "<Figure size 1296x504 with 2 Axes>"
            ]
          },
          "metadata": {
            "tags": [],
            "needs_background": "light"
          }
        },
        {
          "output_type": "display_data",
          "data": {
            "image/png": "[encoded data removed]",
            "text/plain": [
              "<Figure size 1296x504 with 2 Axes>"
            ]
          },
          "metadata": {
            "tags": [],
            "needs_background": "light"
          }
        },
        {
          "output_type": "display_data",
          "data": {
            "image/png": "[encoded data removed]",
            "text/plain": [
              "<Figure size 1296x504 with 2 Axes>"
            ]
          },
          "metadata": {
            "tags": [],
            "needs_background": "light"
          }
        },
        {
          "output_type": "display_data",
          "data": {
            "image/png": "[encoded data removed]",
            "text/plain": [
              "<Figure size 1296x504 with 2 Axes>"
            ]
          },
          "metadata": {
            "tags": [],
            "needs_background": "light"
          }
        }
      ]
    },
    {
      "cell_type": "code",
      "metadata": {
        "colab": {
          "base_uri": "https://localhost:8080/",
          "height": 301
        },
        "id": "DzJjmiqnjR_o",
        "outputId": "98435f57-42d1-4613-fe9c-8416be0a9ab7"
      },
      "source": [
        "file_csv_outlier = '/content/drive/My Drive/graduation/database9.3_0.3.csv'\n",
        "\n",
        "df_out = pd.read_csv(file_csv_outlier)\n",
        "variation_out = df_out['글루탐산(Glutamic acid, GLU, mg)'].var()\n",
        "print(variation_out)\n",
        "\n",
        "X_out = df_out.iloc[:,5]\n",
        "Y_out = X_out\n",
        "\n",
        "plt.scatter(X_out, Y_out)\n",
        "plt.legend()\n",
        "plt.show()"
      ],
      "execution_count": 20,
      "outputs": [
        {
          "output_type": "stream",
          "text": [
            "No handles with labels found to put in legend.\n"
          ],
          "name": "stderr"
        },
        {
          "output_type": "stream",
          "text": [
            "2551775.8701542923\n"
          ],
          "name": "stdout"
        },
        {
          "output_type": "display_data",
          "data": {
            "image/png": "[encoded data removed]",
            "text/plain": [
              "<Figure size 432x288 with 1 Axes>"
            ]
          },
          "metadata": {
            "tags": [],
            "needs_background": "light"
          }
        }
      ]
    },
    {
      "cell_type": "code",
      "metadata": {
        "id": "h5yiDAuPuEJH"
      },
      "source": [
        ""
      ],
      "execution_count": 20,
      "outputs": []
    },
    {
      "cell_type": "code",
      "metadata": {
        "colab": {
          "base_uri": "https://localhost:8080/",
          "height": 389
        },
        "id": "bFgDILq0sDRI",
        "outputId": "c9a91e20-6c01-465b-c954-dcc55db8aa07"
      },
      "source": [
        "arr_out = [X_out, Y_out]\n",
        "arr_out = np.array(arr_out)\n",
        "arr_out = np.transpose(arr_out)\n",
        "\n",
        "kmeans = KMeans(n_clusters=5, init='k-means++', max_iter=300, n_init=10, random_state=0)\n",
        "pred_y = kmeans.fit_predict(arr_out) \n",
        "print(kmeans.labels_)\n",
        "colormap = np.array(['c', 'g', 'b', 'm', 'y'])\n",
        "plt.scatter(arr_out[:,0], arr_out[:,0], s=5, c=colormap[pred_y])\n",
        "print(kmeans.cluster_centers_)\n",
        "plt.scatter(kmeans.cluster_centers_[:,0], kmeans.cluster_centers_[:,1], s=100, c='red')\n",
        "plt.title('Clustering Results with Centers')\n",
        "plt.show()"
      ],
      "execution_count": 21,
      "outputs": [
        {
          "output_type": "stream",
          "text": [
            "[2 2 3 ... 4 4 3]\n",
            "[[ 270.01690821  270.01690821]\n",
            " [4387.07142857 4387.07142857]\n",
            " [2958.56495468 2958.56495468]\n",
            " [1587.01027397 1587.01027397]\n",
            " [6747.41666667 6747.41666667]]\n"
          ],
          "name": "stdout"
        },
        {
          "output_type": "display_data",
          "data": {
            "image/png": "[encoded data removed]",
            "text/plain": [
              "<Figure size 432x288 with 1 Axes>"
            ]
          },
          "metadata": {
            "tags": [],
            "needs_background": "light"
          }
        }
      ]
    },
    {
      "cell_type": "code",
      "metadata": {
        "colab": {
          "base_uri": "https://localhost:8080/",
          "height": 473
        },
        "id": "8lRyCpl1a6zQ",
        "outputId": "bcf3f135-6ae8-4cfe-a6a0-ae91fd58d7d6"
      },
      "source": [
        "print(kmeans.cluster_centers_.shape)\n",
        "print(kmeans.cluster_centers_[0, (0,1)])\n",
        "print(pred_y)\n",
        "pred_y = np.transpose(pred_y)\n",
        "result_df = pd.DataFrame({'식품군': df_out['식품군(Food groups)'],\n",
        "                          '식품명(국문)':df_out['식품명(국문)(Food and Description(Korean))'],\n",
        "                          '글루탐산': df_out['글루탐산(Glutamic acid, GLU, mg)'],\n",
        "                          'cluster(번호)':pred_y})\n",
        "result_df"
      ],
      "execution_count": 22,
      "outputs": [
        {
          "output_type": "stream",
          "text": [
            "(5, 2)\n",
            "[270.01690821 270.01690821]\n",
            "[2 2 3 ... 4 4 3]\n"
          ],
          "name": "stdout"
        },
        {
          "output_type": "execute_result",
          "data": {
            "text/html": [
              "<div>\n",
              "<style scoped>\n",
              "    .dataframe tbody tr th:only-of-type {\n",
              "        vertical-align: middle;\n",
              "    }\n",
              "\n",
              "    .dataframe tbody tr th {\n",
              "        vertical-align: top;\n",
              "    }\n",
              "\n",
              "    .dataframe thead th {\n",
              "        text-align: right;\n",
              "    }\n",
              "</style>\n",
              "<table border=\"1\" class=\"dataframe\">\n",
              "  <thead>\n",
              "    <tr style=\"text-align: right;\">\n",
              "      <th></th>\n",
              "      <th>식품군</th>\n",
              "      <th>식품명(국문)</th>\n",
              "      <th>글루탐산</th>\n",
              "      <th>cluster(번호)</th>\n",
              "    </tr>\n",
              "  </thead>\n",
              "  <tbody>\n",
              "    <tr>\n",
              "      <th>0</th>\n",
              "      <td>곡류및그제품</td>\n",
              "      <td>기장, 찰기장, 도정, 생것</td>\n",
              "      <td>2535</td>\n",
              "      <td>2</td>\n",
              "    </tr>\n",
              "    <tr>\n",
              "      <th>1</th>\n",
              "      <td>곡류및그제품</td>\n",
              "      <td>기장, 찰기장, 이백찰, 도정, 생것</td>\n",
              "      <td>2359</td>\n",
              "      <td>2</td>\n",
              "    </tr>\n",
              "    <tr>\n",
              "      <th>2</th>\n",
              "      <td>곡류및그제품</td>\n",
              "      <td>기장, 찰기장, 한라찰, 도정, 생것</td>\n",
              "      <td>2218</td>\n",
              "      <td>3</td>\n",
              "    </tr>\n",
              "    <tr>\n",
              "      <th>3</th>\n",
              "      <td>곡류및그제품</td>\n",
              "      <td>기장, 찰기장, 황실찰, 도정, 생것</td>\n",
              "      <td>2798</td>\n",
              "      <td>2</td>\n",
              "    </tr>\n",
              "    <tr>\n",
              "      <th>4</th>\n",
              "      <td>곡류및그제품</td>\n",
              "      <td>메밀, 도정, 생것</td>\n",
              "      <td>2386</td>\n",
              "      <td>2</td>\n",
              "    </tr>\n",
              "    <tr>\n",
              "      <th>...</th>\n",
              "      <td>...</td>\n",
              "      <td>...</td>\n",
              "      <td>...</td>\n",
              "      <td>...</td>\n",
              "    </tr>\n",
              "    <tr>\n",
              "      <th>1594</th>\n",
              "      <td>기타</td>\n",
              "      <td>인삼, 홍삼, 추출</td>\n",
              "      <td>27</td>\n",
              "      <td>0</td>\n",
              "    </tr>\n",
              "    <tr>\n",
              "      <th>1595</th>\n",
              "      <td>기타</td>\n",
              "      <td>장수풍뎅이, 유충, 말린것</td>\n",
              "      <td>912</td>\n",
              "      <td>0</td>\n",
              "    </tr>\n",
              "    <tr>\n",
              "      <th>1596</th>\n",
              "      <td>기타</td>\n",
              "      <td>팽창제, 효모, 말린것</td>\n",
              "      <td>5900</td>\n",
              "      <td>4</td>\n",
              "    </tr>\n",
              "    <tr>\n",
              "      <th>1597</th>\n",
              "      <td>기타</td>\n",
              "      <td>흰점박이 꽃무지, 유충, 말린것</td>\n",
              "      <td>6400</td>\n",
              "      <td>4</td>\n",
              "    </tr>\n",
              "    <tr>\n",
              "      <th>1598</th>\n",
              "      <td>기타</td>\n",
              "      <td>흰점박이 꽃무지, 유충, 생것</td>\n",
              "      <td>1966</td>\n",
              "      <td>3</td>\n",
              "    </tr>\n",
              "  </tbody>\n",
              "</table>\n",
              "<p>1599 rows × 4 columns</p>\n",
              "</div>"
            ],
            "text/plain": [
              "         식품군               식품명(국문)  글루탐산  cluster(번호)\n",
              "0     곡류및그제품       기장, 찰기장, 도정, 생것  2535            2\n",
              "1     곡류및그제품  기장, 찰기장, 이백찰, 도정, 생것  2359            2\n",
              "2     곡류및그제품  기장, 찰기장, 한라찰, 도정, 생것  2218            3\n",
              "3     곡류및그제품  기장, 찰기장, 황실찰, 도정, 생것  2798            2\n",
              "4     곡류및그제품            메밀, 도정, 생것  2386            2\n",
              "...      ...                   ...   ...          ...\n",
              "1594      기타            인삼, 홍삼, 추출    27            0\n",
              "1595      기타        장수풍뎅이, 유충, 말린것   912            0\n",
              "1596      기타          팽창제, 효모, 말린것  5900            4\n",
              "1597      기타     흰점박이 꽃무지, 유충, 말린것  6400            4\n",
              "1598      기타      흰점박이 꽃무지, 유충, 생것  1966            3\n",
              "\n",
              "[1599 rows x 4 columns]"
            ]
          },
          "metadata": {
            "tags": []
          },
          "execution_count": 22
        }
      ]
    },
    {
      "cell_type": "code",
      "metadata": {
        "colab": {
          "base_uri": "https://localhost:8080/",
          "height": 419
        },
        "id": "onF6AOyPivBj",
        "outputId": "e9cb4c89-55b5-4d43-b214-8d9c803e4ade"
      },
      "source": [
        "result_df = result_df.sort_values(by=['cluster(번호)', '글루탐산'], ascending=True)\n",
        "result_df"
      ],
      "execution_count": 23,
      "outputs": [
        {
          "output_type": "execute_result",
          "data": {
            "text/html": [
              "<div>\n",
              "<style scoped>\n",
              "    .dataframe tbody tr th:only-of-type {\n",
              "        vertical-align: middle;\n",
              "    }\n",
              "\n",
              "    .dataframe tbody tr th {\n",
              "        vertical-align: top;\n",
              "    }\n",
              "\n",
              "    .dataframe thead th {\n",
              "        text-align: right;\n",
              "    }\n",
              "</style>\n",
              "<table border=\"1\" class=\"dataframe\">\n",
              "  <thead>\n",
              "    <tr style=\"text-align: right;\">\n",
              "      <th></th>\n",
              "      <th>식품군</th>\n",
              "      <th>식품명(국문)</th>\n",
              "      <th>글루탐산</th>\n",
              "      <th>cluster(번호)</th>\n",
              "    </tr>\n",
              "  </thead>\n",
              "  <tbody>\n",
              "    <tr>\n",
              "      <th>236</th>\n",
              "      <td>감자류및전분류</td>\n",
              "      <td>전분, 고구마, 가루</td>\n",
              "      <td>0</td>\n",
              "      <td>0</td>\n",
              "    </tr>\n",
              "    <tr>\n",
              "      <th>257</th>\n",
              "      <td>당류</td>\n",
              "      <td>설탕, 백설탕</td>\n",
              "      <td>0</td>\n",
              "      <td>0</td>\n",
              "    </tr>\n",
              "    <tr>\n",
              "      <th>276</th>\n",
              "      <td>두류</td>\n",
              "      <td>녹두묵</td>\n",
              "      <td>0</td>\n",
              "      <td>0</td>\n",
              "    </tr>\n",
              "    <tr>\n",
              "      <th>628</th>\n",
              "      <td>채소류</td>\n",
              "      <td>알로에 음료</td>\n",
              "      <td>0</td>\n",
              "      <td>0</td>\n",
              "    </tr>\n",
              "    <tr>\n",
              "      <th>784</th>\n",
              "      <td>버섯류</td>\n",
              "      <td>영지버섯, 추출</td>\n",
              "      <td>0</td>\n",
              "      <td>0</td>\n",
              "    </tr>\n",
              "    <tr>\n",
              "      <th>...</th>\n",
              "      <td>...</td>\n",
              "      <td>...</td>\n",
              "      <td>...</td>\n",
              "      <td>...</td>\n",
              "    </tr>\n",
              "    <tr>\n",
              "      <th>337</th>\n",
              "      <td>견과류및종실류</td>\n",
              "      <td>목화씨, 구운것</td>\n",
              "      <td>8158</td>\n",
              "      <td>4</td>\n",
              "    </tr>\n",
              "    <tr>\n",
              "      <th>1266</th>\n",
              "      <td>어패류및기타수산물</td>\n",
              "      <td>명태, 북어, 말린것</td>\n",
              "      <td>8176</td>\n",
              "      <td>4</td>\n",
              "    </tr>\n",
              "    <tr>\n",
              "      <th>1313</th>\n",
              "      <td>어패류및기타수산물</td>\n",
              "      <td>가리비, 관자, 삶아서 말린것</td>\n",
              "      <td>8300</td>\n",
              "      <td>4</td>\n",
              "    </tr>\n",
              "    <tr>\n",
              "      <th>798</th>\n",
              "      <td>버섯류</td>\n",
              "      <td>표고버섯, 배지재배, 갓, 말린것</td>\n",
              "      <td>8601</td>\n",
              "      <td>4</td>\n",
              "    </tr>\n",
              "    <tr>\n",
              "      <th>682</th>\n",
              "      <td>채소류</td>\n",
              "      <td>참죽나물, 삶아서 말린것</td>\n",
              "      <td>8979</td>\n",
              "      <td>4</td>\n",
              "    </tr>\n",
              "  </tbody>\n",
              "</table>\n",
              "<p>1599 rows × 4 columns</p>\n",
              "</div>"
            ],
            "text/plain": [
              "            식품군             식품명(국문)  글루탐산  cluster(번호)\n",
              "236     감자류및전분류        전분, 고구마, 가루      0            0\n",
              "257          당류             설탕, 백설탕     0            0\n",
              "276          두류                 녹두묵     0            0\n",
              "628         채소류              알로에 음료     0            0\n",
              "784         버섯류            영지버섯, 추출     0            0\n",
              "...         ...                 ...   ...          ...\n",
              "337     견과류및종실류            목화씨, 구운것  8158            4\n",
              "1266  어패류및기타수산물         명태, 북어, 말린것  8176            4\n",
              "1313  어패류및기타수산물    가리비, 관자, 삶아서 말린것  8300            4\n",
              "798         버섯류  표고버섯, 배지재배, 갓, 말린것  8601            4\n",
              "682         채소류       참죽나물, 삶아서 말린것  8979            4\n",
              "\n",
              "[1599 rows x 4 columns]"
            ]
          },
          "metadata": {
            "tags": []
          },
          "execution_count": 23
        }
      ]
    },
    {
      "cell_type": "code",
      "metadata": {
        "colab": {
          "base_uri": "https://localhost:8080/",
          "height": 1000
        },
        "id": "dZx4OvVIQ6Vr",
        "outputId": "c7fbb873-2238-4c94-8e30-1be306a62432"
      },
      "source": [
        "cluster4 = result_df.iloc[1563 :, :]\n",
        "cluster4 = cluster4.sort_values(by='식품군')\n",
        "cluster4"
      ],
      "execution_count": 36,
      "outputs": [
        {
          "output_type": "execute_result",
          "data": {
            "text/html": [
              "<div>\n",
              "<style scoped>\n",
              "    .dataframe tbody tr th:only-of-type {\n",
              "        vertical-align: middle;\n",
              "    }\n",
              "\n",
              "    .dataframe tbody tr th {\n",
              "        vertical-align: top;\n",
              "    }\n",
              "\n",
              "    .dataframe thead th {\n",
              "        text-align: right;\n",
              "    }\n",
              "</style>\n",
              "<table border=\"1\" class=\"dataframe\">\n",
              "  <thead>\n",
              "    <tr style=\"text-align: right;\">\n",
              "      <th></th>\n",
              "      <th>식품군</th>\n",
              "      <th>식품명(국문)</th>\n",
              "      <th>글루탐산</th>\n",
              "      <th>cluster(번호)</th>\n",
              "    </tr>\n",
              "  </thead>\n",
              "  <tbody>\n",
              "    <tr>\n",
              "      <th>373</th>\n",
              "      <td>견과류및종실류</td>\n",
              "      <td>호박씨, 말린것</td>\n",
              "      <td>5606</td>\n",
              "      <td>4</td>\n",
              "    </tr>\n",
              "    <tr>\n",
              "      <th>337</th>\n",
              "      <td>견과류및종실류</td>\n",
              "      <td>목화씨, 구운것</td>\n",
              "      <td>8158</td>\n",
              "      <td>4</td>\n",
              "    </tr>\n",
              "    <tr>\n",
              "      <th>344</th>\n",
              "      <td>견과류및종실류</td>\n",
              "      <td>수박씨, 조미, 볶은것</td>\n",
              "      <td>6000</td>\n",
              "      <td>4</td>\n",
              "    </tr>\n",
              "    <tr>\n",
              "      <th>348</th>\n",
              "      <td>견과류및종실류</td>\n",
              "      <td>아몬드, 조미, 볶은것</td>\n",
              "      <td>6014</td>\n",
              "      <td>4</td>\n",
              "    </tr>\n",
              "    <tr>\n",
              "      <th>1586</th>\n",
              "      <td>기타</td>\n",
              "      <td>누에, 유충, 가루</td>\n",
              "      <td>5764</td>\n",
              "      <td>4</td>\n",
              "    </tr>\n",
              "    <tr>\n",
              "      <th>1596</th>\n",
              "      <td>기타</td>\n",
              "      <td>팽창제, 효모, 말린것</td>\n",
              "      <td>5900</td>\n",
              "      <td>4</td>\n",
              "    </tr>\n",
              "    <tr>\n",
              "      <th>1597</th>\n",
              "      <td>기타</td>\n",
              "      <td>흰점박이 꽃무지, 유충, 말린것</td>\n",
              "      <td>6400</td>\n",
              "      <td>4</td>\n",
              "    </tr>\n",
              "    <tr>\n",
              "      <th>1583</th>\n",
              "      <td>기타</td>\n",
              "      <td>갈색 거저리, 유충, 말린것</td>\n",
              "      <td>6276</td>\n",
              "      <td>4</td>\n",
              "    </tr>\n",
              "    <tr>\n",
              "      <th>293</th>\n",
              "      <td>두류</td>\n",
              "      <td>쥐눈이콩(검정소립콩), 볶은것</td>\n",
              "      <td>7086</td>\n",
              "      <td>4</td>\n",
              "    </tr>\n",
              "    <tr>\n",
              "      <th>304</th>\n",
              "      <td>두류</td>\n",
              "      <td>콩(대두), 흑태, 볶은것</td>\n",
              "      <td>6942</td>\n",
              "      <td>4</td>\n",
              "    </tr>\n",
              "    <tr>\n",
              "      <th>298</th>\n",
              "      <td>두류</td>\n",
              "      <td>콩(대두), 서리태, 말린것</td>\n",
              "      <td>6583</td>\n",
              "      <td>4</td>\n",
              "    </tr>\n",
              "    <tr>\n",
              "      <th>291</th>\n",
              "      <td>두류</td>\n",
              "      <td>쥐눈이콩(검정소립콩), 말린것</td>\n",
              "      <td>6235</td>\n",
              "      <td>4</td>\n",
              "    </tr>\n",
              "    <tr>\n",
              "      <th>300</th>\n",
              "      <td>두류</td>\n",
              "      <td>콩(대두), 서리태, 볶은것</td>\n",
              "      <td>7110</td>\n",
              "      <td>4</td>\n",
              "    </tr>\n",
              "    <tr>\n",
              "      <th>297</th>\n",
              "      <td>두류</td>\n",
              "      <td>콩(대두), 대풍, 말린것</td>\n",
              "      <td>7573</td>\n",
              "      <td>4</td>\n",
              "    </tr>\n",
              "    <tr>\n",
              "      <th>294</th>\n",
              "      <td>두류</td>\n",
              "      <td>콩(대두), 노란콩, 말린것</td>\n",
              "      <td>6071</td>\n",
              "      <td>4</td>\n",
              "    </tr>\n",
              "    <tr>\n",
              "      <th>301</th>\n",
              "      <td>두류</td>\n",
              "      <td>콩(대두), 청자3호, 말린것</td>\n",
              "      <td>7740</td>\n",
              "      <td>4</td>\n",
              "    </tr>\n",
              "    <tr>\n",
              "      <th>302</th>\n",
              "      <td>두류</td>\n",
              "      <td>콩(대두), 흑태, 말린것</td>\n",
              "      <td>5945</td>\n",
              "      <td>4</td>\n",
              "    </tr>\n",
              "    <tr>\n",
              "      <th>296</th>\n",
              "      <td>두류</td>\n",
              "      <td>콩(대두), 노란콩, 볶은것</td>\n",
              "      <td>7370</td>\n",
              "      <td>4</td>\n",
              "    </tr>\n",
              "    <tr>\n",
              "      <th>798</th>\n",
              "      <td>버섯류</td>\n",
              "      <td>표고버섯, 배지재배, 갓, 말린것</td>\n",
              "      <td>8601</td>\n",
              "      <td>4</td>\n",
              "    </tr>\n",
              "    <tr>\n",
              "      <th>779</th>\n",
              "      <td>버섯류</td>\n",
              "      <td>양송이버섯, 가루</td>\n",
              "      <td>6802</td>\n",
              "      <td>4</td>\n",
              "    </tr>\n",
              "    <tr>\n",
              "      <th>802</th>\n",
              "      <td>버섯류</td>\n",
              "      <td>표고버섯, 배지재배, 대, 말린것</td>\n",
              "      <td>6130</td>\n",
              "      <td>4</td>\n",
              "    </tr>\n",
              "    <tr>\n",
              "      <th>1240</th>\n",
              "      <td>어패류및기타수산물</td>\n",
              "      <td>까나리, 삶아서 말린것</td>\n",
              "      <td>6100</td>\n",
              "      <td>4</td>\n",
              "    </tr>\n",
              "    <tr>\n",
              "      <th>1262</th>\n",
              "      <td>어패류및기타수산물</td>\n",
              "      <td>멸치, 중멸치, 삶아서 말린것</td>\n",
              "      <td>6588</td>\n",
              "      <td>4</td>\n",
              "    </tr>\n",
              "    <tr>\n",
              "      <th>1263</th>\n",
              "      <td>어패류및기타수산물</td>\n",
              "      <td>멸치, 잔멸치, 삶아서 말린것</td>\n",
              "      <td>7488</td>\n",
              "      <td>4</td>\n",
              "    </tr>\n",
              "    <tr>\n",
              "      <th>1266</th>\n",
              "      <td>어패류및기타수산물</td>\n",
              "      <td>명태, 북어, 말린것</td>\n",
              "      <td>8176</td>\n",
              "      <td>4</td>\n",
              "    </tr>\n",
              "    <tr>\n",
              "      <th>1306</th>\n",
              "      <td>어패류및기타수산물</td>\n",
              "      <td>쥐치, 포, 조미하여 말린것</td>\n",
              "      <td>7447</td>\n",
              "      <td>4</td>\n",
              "    </tr>\n",
              "    <tr>\n",
              "      <th>1313</th>\n",
              "      <td>어패류및기타수산물</td>\n",
              "      <td>가리비, 관자, 삶아서 말린것</td>\n",
              "      <td>8300</td>\n",
              "      <td>4</td>\n",
              "    </tr>\n",
              "    <tr>\n",
              "      <th>1400</th>\n",
              "      <td>우유및유제품류</td>\n",
              "      <td>치즈, 파마산</td>\n",
              "      <td>6425</td>\n",
              "      <td>4</td>\n",
              "    </tr>\n",
              "    <tr>\n",
              "      <th>1369</th>\n",
              "      <td>우유및유제품류</td>\n",
              "      <td>분유, 탈지</td>\n",
              "      <td>6673</td>\n",
              "      <td>4</td>\n",
              "    </tr>\n",
              "    <tr>\n",
              "      <th>1404</th>\n",
              "      <td>우유및유제품류</td>\n",
              "      <td>치즈, 고다</td>\n",
              "      <td>6137</td>\n",
              "      <td>4</td>\n",
              "    </tr>\n",
              "    <tr>\n",
              "      <th>1396</th>\n",
              "      <td>우유및유제품류</td>\n",
              "      <td>치즈, 모짜렐라</td>\n",
              "      <td>6033</td>\n",
              "      <td>4</td>\n",
              "    </tr>\n",
              "    <tr>\n",
              "      <th>985</th>\n",
              "      <td>육류</td>\n",
              "      <td>닭고기, 가슴(껍질 제거), 구운것(팬)</td>\n",
              "      <td>5788</td>\n",
              "      <td>4</td>\n",
              "    </tr>\n",
              "    <tr>\n",
              "      <th>1173</th>\n",
              "      <td>육류</td>\n",
              "      <td>송아지고기, 미국산, 살코기, 삶은것</td>\n",
              "      <td>5651</td>\n",
              "      <td>4</td>\n",
              "    </tr>\n",
              "    <tr>\n",
              "      <th>1543</th>\n",
              "      <td>조미료류</td>\n",
              "      <td>조미료, 멸치맛, 가루</td>\n",
              "      <td>7023</td>\n",
              "      <td>4</td>\n",
              "    </tr>\n",
              "    <tr>\n",
              "      <th>409</th>\n",
              "      <td>채소류</td>\n",
              "      <td>고사리, 삶아서 말린것</td>\n",
              "      <td>5793</td>\n",
              "      <td>4</td>\n",
              "    </tr>\n",
              "    <tr>\n",
              "      <th>682</th>\n",
              "      <td>채소류</td>\n",
              "      <td>참죽나물, 삶아서 말린것</td>\n",
              "      <td>8979</td>\n",
              "      <td>4</td>\n",
              "    </tr>\n",
              "  </tbody>\n",
              "</table>\n",
              "</div>"
            ],
            "text/plain": [
              "            식품군                 식품명(국문)  글루탐산  cluster(번호)\n",
              "373     견과류및종실류                호박씨, 말린것  5606            4\n",
              "337     견과류및종실류                목화씨, 구운것  8158            4\n",
              "344     견과류및종실류            수박씨, 조미, 볶은것  6000            4\n",
              "348     견과류및종실류            아몬드, 조미, 볶은것  6014            4\n",
              "1586         기타             누에, 유충, 가루   5764            4\n",
              "1596         기타            팽창제, 효모, 말린것  5900            4\n",
              "1597         기타       흰점박이 꽃무지, 유충, 말린것  6400            4\n",
              "1583         기타         갈색 거저리, 유충, 말린것  6276            4\n",
              "293          두류        쥐눈이콩(검정소립콩), 볶은것  7086            4\n",
              "304          두류          콩(대두), 흑태, 볶은것  6942            4\n",
              "298          두류         콩(대두), 서리태, 말린것  6583            4\n",
              "291          두류        쥐눈이콩(검정소립콩), 말린것  6235            4\n",
              "300          두류         콩(대두), 서리태, 볶은것  7110            4\n",
              "297          두류          콩(대두), 대풍, 말린것  7573            4\n",
              "294          두류         콩(대두), 노란콩, 말린것  6071            4\n",
              "301          두류        콩(대두), 청자3호, 말린것  7740            4\n",
              "302          두류          콩(대두), 흑태, 말린것  5945            4\n",
              "296          두류         콩(대두), 노란콩, 볶은것  7370            4\n",
              "798         버섯류      표고버섯, 배지재배, 갓, 말린것  8601            4\n",
              "779         버섯류               양송이버섯, 가루  6802            4\n",
              "802         버섯류      표고버섯, 배지재배, 대, 말린것  6130            4\n",
              "1240  어패류및기타수산물            까나리, 삶아서 말린것  6100            4\n",
              "1262  어패류및기타수산물        멸치, 중멸치, 삶아서 말린것  6588            4\n",
              "1263  어패류및기타수산물        멸치, 잔멸치, 삶아서 말린것  7488            4\n",
              "1266  어패류및기타수산물             명태, 북어, 말린것  8176            4\n",
              "1306  어패류및기타수산물         쥐치, 포, 조미하여 말린것  7447            4\n",
              "1313  어패류및기타수산물        가리비, 관자, 삶아서 말린것  8300            4\n",
              "1400    우유및유제품류                 치즈, 파마산  6425            4\n",
              "1369    우유및유제품류                  분유, 탈지  6673            4\n",
              "1404    우유및유제품류                  치즈, 고다  6137            4\n",
              "1396    우유및유제품류                치즈, 모짜렐라  6033            4\n",
              "985          육류  닭고기, 가슴(껍질 제거), 구운것(팬)  5788            4\n",
              "1173         육류    송아지고기, 미국산, 살코기, 삶은것  5651            4\n",
              "1543       조미료류           조미료, 멸치맛, 가루   7023            4\n",
              "409         채소류            고사리, 삶아서 말린것  5793            4\n",
              "682         채소류           참죽나물, 삶아서 말린것  8979            4"
            ]
          },
          "metadata": {
            "tags": []
          },
          "execution_count": 36
        }
      ]
    },
    {
      "cell_type": "code",
      "metadata": {
        "id": "1yClLVTRZu1l"
      },
      "source": [
        ""
      ],
      "execution_count": null,
      "outputs": []
    },
    {
      "cell_type": "code",
      "metadata": {
        "id": "RgJnVLjRkB9s"
      },
      "source": [
        "result_df.to_excel('clustering result.xlsx')"
      ],
      "execution_count": null,
      "outputs": []
    },
    {
      "cell_type": "code",
      "metadata": {
        "id": "w9nXiW94siD5"
      },
      "source": [
        "kmeans = KMeans(n_clusters=6, init='k-means++', max_iter=300, n_init=10, random_state=0)\n",
        "pred_y = kmeans.fit_predict(arr_out) \n",
        "print(kmeans.labels_)\n",
        "colormap = np.array(['c', 'g', 'b', 'm', 'y', 'r'])\n",
        "plt.scatter(arr_out[:,0], arr_out[:,0], s=5, c=colormap[pred_y])\n",
        "print(kmeans.cluster_centers_)\n",
        "plt.scatter(kmeans.cluster_centers_[:,0], kmeans.cluster_centers_[:,1], s=100, c='red')\n",
        "plt.title('Clustering Results with Centers')\n",
        "plt.show()"
      ],
      "execution_count": null,
      "outputs": []
    },
    {
      "cell_type": "code",
      "metadata": {
        "id": "NZTDYajfuF_U"
      },
      "source": [
        "kmeans = KMeans(n_clusters=4, init='k-means++', max_iter=300, n_init=10, random_state=0)\n",
        "pred_y = kmeans.fit_predict(arr_out) \n",
        "print(kmeans.labels_)\n",
        "colormap = np.array(['c', 'g', 'b', 'm'])\n",
        "plt.scatter(arr_out[:,0], arr_out[:,0], s=5, c=colormap[pred_y])\n",
        "print(kmeans.cluster_centers_)\n",
        "plt.scatter(kmeans.cluster_centers_[:,0], kmeans.cluster_centers_[:,1], s=100, c='red')\n",
        "plt.title('Clustering Results with Centers')\n",
        "plt.show()"
      ],
      "execution_count": null,
      "outputs": []
    },
    {
      "cell_type": "code",
      "metadata": {
        "id": "LrijgwobtJUg"
      },
      "source": [
        "inertia_arr = []\n",
        "\n",
        "k_range = range(2, 16)\n",
        "\n",
        "for k in k_range:\n",
        "  kmeans = KMeans(n_clusters=k, random_state=200)\n",
        "  kmeans.fit(arr_out)\n",
        "  interia = kmeans.inertia_\n",
        "  print('k : ', k, '  ', 'cost : ', interia)\n",
        "  inertia_arr.append(interia)\n",
        "\n",
        "inertia_arr = np.array(inertia_arr)"
      ],
      "execution_count": null,
      "outputs": []
    },
    {
      "cell_type": "code",
      "metadata": {
        "id": "KfyDMNLVtUMC"
      },
      "source": [
        "plt.plot(k_range, inertia_arr)\n",
        "\n",
        "plt.vlines(4, ymin=inertia_arr.min()*0.9999, ymax=inertia_arr.max()*1.0003, linestyles='--', colors='r')\n",
        "plt.vlines(5, ymin=inertia_arr.min()*0.9999, ymax=inertia_arr.max()*1.0003, linestyles='--', colors='r') # k=5지점이 괜찮아 보임..주관적 판단이 들어가므로.\n",
        "plt.vlines(6, ymin=inertia_arr.min()*0.9999, ymax=inertia_arr.max()*1.0003, linestyles='--', colors='r')\n",
        "plt.vlines(7, ymin=inertia_arr.min()*0.9999, ymax=inertia_arr.max()*1.0003, linestyles='--', colors='r')\n",
        "\n",
        "plt.title('Elbow Method')\n",
        "plt.xlabel('Number of clusters')\n",
        "plt.ylabel('Inertia')\n",
        "plt.show()"
      ],
      "execution_count": null,
      "outputs": []
    },
    {
      "cell_type": "code",
      "metadata": {
        "id": "BHfbDy1CtrX3"
      },
      "source": [
        "k_range = range(2, 10)\n",
        "for k in k_range:\n",
        "  fig, (ax1, ax2) = plt.subplots(1, 2) # 한 줄에 1*2 서브그래프 생성\n",
        "  fig.set_size_inches(18, 7) # 전체 fig 사이즈 설정\n",
        "\n",
        "  #ax1.set_xlim([-0.1, 1]) # 첫번째 plot\n",
        "  clusterer = KMeans(n_clusters=k, random_state=0)\n",
        "  cluster_labels = clusterer.fit_predict(arr_out)\n",
        "  silhouette_avg = silhouette_score(arr_out, cluster_labels)\n",
        "\n",
        "  print(\"For n_clusters = \", k, \"The average silhouette_score is : \", silhouette_avg) # 지금 느낀건데.. 저 실루엣 점수 하나가지고 판단하는건 아닌듯. 갈수록 값이 작아지니..."
      ],
      "execution_count": null,
      "outputs": []
    }
  ]
}