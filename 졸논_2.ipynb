{
  "nbformat": 4,
  "nbformat_minor": 0,
  "metadata": {
    "colab": {
      "name": "졸논_2.ipynb",
      "provenance": [],
      "collapsed_sections": [],
      "authorship_tag": "ABX9TyPdNadYDGStgaa0U7ZxgX8Y",
      "include_colab_link": true
    },
    "kernelspec": {
      "display_name": "Python 3",
      "name": "python3"
    },
    "language_info": {
      "name": "python"
    }
  },
  "cells": [
    {
      "cell_type": "markdown",
      "metadata": {
        "id": "view-in-github",
        "colab_type": "text"
      },
      "source": [
        "<a href=\"https://colab.research.google.com/github/songjuhye/Clustering-according-to-taste-and-food-ingredients_graduationProject/blob/main/%EC%A1%B8%EB%85%BC_2.ipynb\" target=\"_parent\"><img src=\"https://colab.research.google.com/assets/colab-badge.svg\" alt=\"Open In Colab\"/></a>"
      ]
    },
    {
      "cell_type": "code",
      "metadata": {
        "colab": {
          "base_uri": "https://localhost:8080/"
        },
        "id": "r4IDT6NjEijv",
        "outputId": "b26bfb28-ce95-4d1e-a3cd-79bac900b2dd"
      },
      "source": [
        "from google.colab import drive\n",
        "drive.mount('/content/drive')"
      ],
      "execution_count": null,
      "outputs": [
        {
          "output_type": "stream",
          "text": [
            "Mounted at /content/drive\n"
          ],
          "name": "stdout"
        }
      ]
    },
    {
      "cell_type": "code",
      "metadata": {
        "id": "TDdSSeHPE74e"
      },
      "source": [
        "file_csv = '/content/drive/My Drive/graduation/database9.3_0.2.csv'"
      ],
      "execution_count": null,
      "outputs": []
    },
    {
      "cell_type": "code",
      "metadata": {
        "id": "aX8p2XI2FxuA"
      },
      "source": [
        "import pandas as pd\n",
        "import numpy as np"
      ],
      "execution_count": null,
      "outputs": []
    },
    {
      "cell_type": "code",
      "metadata": {
        "colab": {
          "base_uri": "https://localhost:8080/",
          "height": 674
        },
        "id": "7VQD-4wzHSS7",
        "outputId": "fe86ef48-be93-4f6e-879b-7967e0cc94d1"
      },
      "source": [
        "df = pd.read_csv(file_csv)\n",
        "df"
      ],
      "execution_count": null,
      "outputs": [
        {
          "output_type": "execute_result",
          "data": {
            "text/html": [
              "<div>\n",
              "<style scoped>\n",
              "    .dataframe tbody tr th:only-of-type {\n",
              "        vertical-align: middle;\n",
              "    }\n",
              "\n",
              "    .dataframe tbody tr th {\n",
              "        vertical-align: top;\n",
              "    }\n",
              "\n",
              "    .dataframe thead th {\n",
              "        text-align: right;\n",
              "    }\n",
              "</style>\n",
              "<table border=\"1\" class=\"dataframe\">\n",
              "  <thead>\n",
              "    <tr style=\"text-align: right;\">\n",
              "      <th></th>\n",
              "      <th>색인(Index)</th>\n",
              "      <th>식품군(Food groups)</th>\n",
              "      <th>식품코드(Food Code)</th>\n",
              "      <th>식품명(국문)(Food and Description(Korean))</th>\n",
              "      <th>식품명(영문)(Food and Description(English))</th>\n",
              "      <th>글루탐산(Glutamic acid, GLU, mg)</th>\n",
              "    </tr>\n",
              "  </thead>\n",
              "  <tbody>\n",
              "    <tr>\n",
              "      <th>0</th>\n",
              "      <td>5</td>\n",
              "      <td>곡류및그제품</td>\n",
              "      <td>A003001A010a</td>\n",
              "      <td>기장, 찰기장, 도정, 생것</td>\n",
              "      <td>Prosomillet, Glutinous, Polished, Raw</td>\n",
              "      <td>2535</td>\n",
              "    </tr>\n",
              "    <tr>\n",
              "      <th>1</th>\n",
              "      <td>3148</td>\n",
              "      <td>곡류및그제품</td>\n",
              "      <td>A003002A010a</td>\n",
              "      <td>기장, 찰기장, 이백찰, 도정, 생것</td>\n",
              "      <td>Prosomillet, Glutinous, Ibaekchal, Polished, Raw</td>\n",
              "      <td>2359</td>\n",
              "    </tr>\n",
              "    <tr>\n",
              "      <th>2</th>\n",
              "      <td>3149</td>\n",
              "      <td>곡류및그제품</td>\n",
              "      <td>A003003A010a</td>\n",
              "      <td>기장, 찰기장, 한라찰, 도정, 생것</td>\n",
              "      <td>Prosomillet, Glutinous, Hallachal, Polished, Raw</td>\n",
              "      <td>2218</td>\n",
              "    </tr>\n",
              "    <tr>\n",
              "      <th>3</th>\n",
              "      <td>3150</td>\n",
              "      <td>곡류및그제품</td>\n",
              "      <td>A003004A010a</td>\n",
              "      <td>기장, 찰기장, 황실찰, 도정, 생것</td>\n",
              "      <td>Prosomillet, Glutinous, Hwangsilchal, Polished...</td>\n",
              "      <td>2798</td>\n",
              "    </tr>\n",
              "    <tr>\n",
              "      <th>4</th>\n",
              "      <td>6</td>\n",
              "      <td>곡류및그제품</td>\n",
              "      <td>A004000A010a</td>\n",
              "      <td>메밀, 도정, 생것</td>\n",
              "      <td>Buckwheat, Polished, Raw</td>\n",
              "      <td>2386</td>\n",
              "    </tr>\n",
              "    <tr>\n",
              "      <th>...</th>\n",
              "      <td>...</td>\n",
              "      <td>...</td>\n",
              "      <td>...</td>\n",
              "      <td>...</td>\n",
              "      <td>...</td>\n",
              "      <td>...</td>\n",
              "    </tr>\n",
              "    <tr>\n",
              "      <th>1598</th>\n",
              "      <td>2993</td>\n",
              "      <td>기타</td>\n",
              "      <td>T021003000Na</td>\n",
              "      <td>인삼, 홍삼, 추출</td>\n",
              "      <td>Korean ginseng(Panax ginseng C. A. Mey.), Red ...</td>\n",
              "      <td>27</td>\n",
              "    </tr>\n",
              "    <tr>\n",
              "      <th>1599</th>\n",
              "      <td>3147</td>\n",
              "      <td>기타</td>\n",
              "      <td>T0300002601a</td>\n",
              "      <td>장수풍뎅이, 유충, 말린것</td>\n",
              "      <td>Allomyrina dichotoma, Larva, Dried</td>\n",
              "      <td>912</td>\n",
              "    </tr>\n",
              "    <tr>\n",
              "      <th>1600</th>\n",
              "      <td>2997</td>\n",
              "      <td>기타</td>\n",
              "      <td>T0250030001a</td>\n",
              "      <td>팽창제, 효모, 말린것</td>\n",
              "      <td>Leavening agent, Yeast, Dried</td>\n",
              "      <td>5900</td>\n",
              "    </tr>\n",
              "    <tr>\n",
              "      <th>1601</th>\n",
              "      <td>2999</td>\n",
              "      <td>기타</td>\n",
              "      <td>T0290002601a</td>\n",
              "      <td>흰점박이 꽃무지, 유충, 말린것</td>\n",
              "      <td>Protaetia brevitarsis, Larva, Dried</td>\n",
              "      <td>6400</td>\n",
              "    </tr>\n",
              "    <tr>\n",
              "      <th>1602</th>\n",
              "      <td>3000</td>\n",
              "      <td>기타</td>\n",
              "      <td>T0290002600a</td>\n",
              "      <td>흰점박이 꽃무지, 유충, 생것</td>\n",
              "      <td>Protaetia brevitarsis, Larva, Raw</td>\n",
              "      <td>1966</td>\n",
              "    </tr>\n",
              "  </tbody>\n",
              "</table>\n",
              "<p>1603 rows × 6 columns</p>\n",
              "</div>"
            ],
            "text/plain": [
              "      색인(Index)  ... 글루탐산(Glutamic acid, GLU, mg)\n",
              "0             5  ...                         2535\n",
              "1          3148  ...                         2359\n",
              "2          3149  ...                         2218\n",
              "3          3150  ...                         2798\n",
              "4             6  ...                         2386\n",
              "...         ...  ...                          ...\n",
              "1598       2993  ...                           27\n",
              "1599       3147  ...                          912\n",
              "1600       2997  ...                         5900\n",
              "1601       2999  ...                         6400\n",
              "1602       3000  ...                         1966\n",
              "\n",
              "[1603 rows x 6 columns]"
            ]
          },
          "metadata": {
            "tags": []
          },
          "execution_count": 10
        }
      ]
    },
    {
      "cell_type": "code",
      "metadata": {
        "colab": {
          "base_uri": "https://localhost:8080/"
        },
        "id": "up9h9QD2ViMD",
        "outputId": "c2d30969-4d75-48b9-d318-73c23814fa0c"
      },
      "source": [
        "print(df.iloc[:, 5])"
      ],
      "execution_count": null,
      "outputs": [
        {
          "output_type": "stream",
          "text": [
            "0       2535\n",
            "1       2359\n",
            "2       2218\n",
            "3       2798\n",
            "4       2386\n",
            "        ... \n",
            "1598      27\n",
            "1599     912\n",
            "1600    5900\n",
            "1601    6400\n",
            "1602    1966\n",
            "Name: 글루탐산(Glutamic acid, GLU, mg), Length: 1603, dtype: int64\n"
          ],
          "name": "stdout"
        }
      ]
    },
    {
      "cell_type": "code",
      "metadata": {
        "colab": {
          "base_uri": "https://localhost:8080/"
        },
        "id": "ne1TkNxHbodn",
        "outputId": "f0eb83cb-0550-4624-b1e5-87ba1c8e18fb"
      },
      "source": [
        "variation = df['글루탐산(Glutamic acid, GLU, mg)'].var()\n",
        "\n",
        "print(variation)"
      ],
      "execution_count": null,
      "outputs": [
        {
          "output_type": "stream",
          "text": [
            "2798967.023341068\n"
          ],
          "name": "stdout"
        }
      ]
    },
    {
      "cell_type": "code",
      "metadata": {
        "id": "a9JfCfkpY7ye"
      },
      "source": [
        "X = df.iloc[:,5]\n",
        "Y = X"
      ],
      "execution_count": null,
      "outputs": []
    },
    {
      "cell_type": "code",
      "metadata": {
        "colab": {
          "base_uri": "https://localhost:8080/",
          "height": 283
        },
        "id": "Fp40zrOyZQLi",
        "outputId": "14cb1929-f0af-4b7f-862d-58f3690a0c30"
      },
      "source": [
        "import matplotlib.pyplot as plt\n",
        "\n",
        "plt.scatter(X, Y)\n",
        "plt.legend()\n",
        "plt.show()"
      ],
      "execution_count": null,
      "outputs": [
        {
          "output_type": "stream",
          "text": [
            "No handles with labels found to put in legend.\n"
          ],
          "name": "stderr"
        },
        {
          "output_type": "display_data",
          "data": {
            "image/png": "[encoded data removed]",
            "text/plain": [
              "<Figure size 432x288 with 1 Axes>"
            ]
          },
          "metadata": {
            "tags": []
          }
        }
      ]
    },
    {
      "cell_type": "code",
      "metadata": {
        "colab": {
          "base_uri": "https://localhost:8080/",
          "height": 134
        },
        "id": "ar_2MNRPaJeU",
        "outputId": "3d2a4b85-a1c4-4f72-95bc-dc81dae2946b"
      },
      "source": [
        "plt.scatter(df.iloc[], Y, s=4)\n",
        "plt.show()"
      ],
      "execution_count": null,
      "outputs": [
        {
          "output_type": "error",
          "ename": "SyntaxError",
          "evalue": "ignored",
          "traceback": [
            "\u001b[0;36m  File \u001b[0;32m\"<ipython-input-15-57d834b0e000>\"\u001b[0;36m, line \u001b[0;32m1\u001b[0m\n\u001b[0;31m    plt.scatter(df.iloc[], Y, s=4)\u001b[0m\n\u001b[0m                        ^\u001b[0m\n\u001b[0;31mSyntaxError\u001b[0m\u001b[0;31m:\u001b[0m invalid syntax\n"
          ]
        }
      ]
    },
    {
      "cell_type": "code",
      "metadata": {
        "colab": {
          "base_uri": "https://localhost:8080/",
          "height": 374
        },
        "id": "lr7F2tQtaRqZ",
        "outputId": "c6275122-cdd9-4801-b8c1-89bb41ab15a5"
      },
      "source": [
        "plt.figure(figsize=(10, 6))\n",
        "plt.hist(X, bins=10, alpha=0.4)\n",
        "plt.show()"
      ],
      "execution_count": null,
      "outputs": [
        {
          "output_type": "display_data",
          "data": {
            "image/png": "[encoded data removed]",
            "text/plain": [
              "<Figure size 720x432 with 1 Axes>"
            ]
          },
          "metadata": {
            "tags": []
          }
        }
      ]
    },
    {
      "cell_type": "code",
      "metadata": {
        "colab": {
          "base_uri": "https://localhost:8080/",
          "height": 283
        },
        "id": "bobnVPcSYDF3",
        "outputId": "8903004f-663c-47d1-c103-b8d493ced5e6"
      },
      "source": [
        "z = np.float32(X)\n",
        "print(type(z))\n",
        "plt.hist(z)\n",
        "plt.show()"
      ],
      "execution_count": null,
      "outputs": [
        {
          "output_type": "stream",
          "text": [
            "<class 'numpy.ndarray'>\n"
          ],
          "name": "stdout"
        },
        {
          "output_type": "display_data",
          "data": {
            "image/png": "[encoded data removed]",
            "text/plain": [
              "<Figure size 432x288 with 1 Axes>"
            ]
          },
          "metadata": {
            "tags": [],
            "needs_background": "light"
          }
        }
      ]
    },
    {
      "cell_type": "code",
      "metadata": {
        "colab": {
          "base_uri": "https://localhost:8080/",
          "height": 340
        },
        "id": "l3YP8XUneOaH",
        "outputId": "432ba700-cb0c-45cd-a1a2-b7cd29f9b27e"
      },
      "source": [
        "from scipy.spatial.distance import pdist\n",
        "from scipy.cluster.hierarchy import linkage\n",
        "from scipy.cluster.hierarchy import dendrogram\n",
        "\n",
        "Xdist = pdist([X, X], metric='euclidean')\n",
        "Z = linkage(Xdist, method='ward')\n",
        "Zd = dendrogram(Z)\n",
        "plt.title('Dendrogram')\n",
        "plt.show()"
      ],
      "execution_count": null,
      "outputs": [
        {
          "output_type": "stream",
          "text": [
            "/usr/local/lib/python3.7/dist-packages/scipy/cluster/hierarchy.py:2834: UserWarning: Attempting to set identical bottom == top == 0 results in singular transformations; automatically expanding.\n",
            "  ax.set_ylim([0, dvw])\n"
          ],
          "name": "stderr"
        },
        {
          "output_type": "display_data",
          "data": {
            "image/png": "[encoded data removed]",
            "text/plain": [
              "<Figure size 432x288 with 1 Axes>"
            ]
          },
          "metadata": {
            "tags": []
          }
        }
      ]
    },
    {
      "cell_type": "code",
      "metadata": {
        "colab": {
          "base_uri": "https://localhost:8080/"
        },
        "id": "Gca8N8mhUm_u",
        "outputId": "7e4a21dc-3b64-480f-ae1d-5afd43c9005a"
      },
      "source": [
        "X = np.array(X)\n",
        "print(X.ndim) # 배열의 차원\n",
        "print(X.shape) # 배열의 크기\n",
        "print(type(X)) # X의 형\n",
        "print(type([X,X]))\n",
        "arr = [X,Y]\n",
        "arr = np.array(arr)\n",
        "print(type(arr))\n",
        "print('바꾸기전 행렬 크기 : ', arr.shape)\n",
        "arr = np.transpose(arr)\n",
        "print('바꾼 행렬 크기 : ', arr.shape)\n",
        "print(arr[:,0].shape)\n",
        "print(arr)"
      ],
      "execution_count": null,
      "outputs": [
        {
          "output_type": "stream",
          "text": [
            "1\n",
            "(1603,)\n",
            "<class 'numpy.ndarray'>\n",
            "<class 'list'>\n",
            "<class 'numpy.ndarray'>\n",
            "바꾸기전 행렬 크기 :  (2, 1603)\n",
            "바꾼 행렬 크기 :  (1603, 2)\n",
            "(1603,)\n",
            "[[2535 2535]\n",
            " [2359 2359]\n",
            " [2218 2218]\n",
            " ...\n",
            " [5900 5900]\n",
            " [6400 6400]\n",
            " [1966 1966]]\n"
          ],
          "name": "stdout"
        }
      ]
    },
    {
      "cell_type": "code",
      "metadata": {
        "colab": {
          "base_uri": "https://localhost:8080/",
          "height": 300
        },
        "id": "ZMRGKBpGiqKM",
        "outputId": "69d599f4-a468-4dc8-9924-83f9be9aed9e"
      },
      "source": [
        "from sklearn.cluster import KMeans\n",
        "\n",
        "kmeans = KMeans(n_clusters=5, init='k-means++', max_iter=300, n_init=10, random_state=0)\n",
        "pred_y = kmeans.fit_predict(arr) #수정 필요. 공부도...\n",
        "print(kmeans.labels_) # 이거 왜 [0,0]으로 출력되냐;;;\n",
        "colormap = np.array(['c', 'g', 'b', 'm', 'r'])\n",
        "print(arr[:1])\n",
        "plt.scatter(arr[:0], arr[:0])\n",
        "plt.show()"
      ],
      "execution_count": null,
      "outputs": [
        {
          "output_type": "stream",
          "text": [
            "[3 3 0 ... 4 4 0]\n",
            "[[2535 2535]]\n"
          ],
          "name": "stdout"
        },
        {
          "output_type": "display_data",
          "data": {
            "image/png": "[encoded data removed]",
            "text/plain": [
              "<Figure size 432x288 with 1 Axes>"
            ]
          },
          "metadata": {
            "tags": [],
            "needs_background": "light"
          }
        }
      ]
    },
    {
      "cell_type": "code",
      "metadata": {
        "colab": {
          "base_uri": "https://localhost:8080/",
          "height": 388
        },
        "id": "OFqtzHf-fIdB",
        "outputId": "5028762b-5695-4e74-ea52-c87a18020f18"
      },
      "source": [
        "from sklearn.cluster import KMeans\n",
        "\n",
        "kmeans = KMeans(n_clusters=5, init='k-means++', max_iter=300, n_init=10, random_state=0)\n",
        "pred_y = kmeans.fit_predict(arr) #수정 필요. 공부도...\n",
        "print(kmeans.labels_) # 이거 왜 [0,0]으로 출력되냐;;;\n",
        "colormap = np.array(['c', 'g', 'b', 'm', 'y'])\n",
        "#plt.scatter(arr[:0], arr[:0], s=5)\n",
        "plt.scatter(arr[:,0], arr[:,0], s=5, c=colormap[pred_y])\n",
        "print(kmeans.cluster_centers_)\n",
        "plt.scatter(kmeans.cluster_centers_[:,0], kmeans.cluster_centers_[:,1], s=100, c='red')\n",
        "plt.title('Clustering Results with Centers')\n",
        "plt.show()"
      ],
      "execution_count": null,
      "outputs": [
        {
          "output_type": "stream",
          "text": [
            "[3 3 0 ... 4 4 0]\n",
            "[[1637.87828947 1637.87828947]\n",
            " [ 274.03121248  274.03121248]\n",
            " [8222.72727273 8222.72727273]\n",
            " [3061.06725146 3061.06725146]\n",
            " [4831.54901961 4831.54901961]]\n"
          ],
          "name": "stdout"
        },
        {
          "output_type": "display_data",
          "data": {
            "image/png": "[encoded data removed]",
            "text/plain": [
              "<Figure size 432x288 with 1 Axes>"
            ]
          },
          "metadata": {
            "tags": [],
            "needs_background": "light"
          }
        }
      ]
    },
    {
      "cell_type": "code",
      "metadata": {
        "colab": {
          "base_uri": "https://localhost:8080/",
          "height": 405
        },
        "id": "fFLvOFeLkIp6",
        "outputId": "f4cc4c15-11be-41fa-863f-c4f932ccea1e"
      },
      "source": [
        "from sklearn.cluster import KMeans\n",
        "\n",
        "kmeans = KMeans(n_clusters=6, init='k-means++', max_iter=300, n_init=10, random_state=0)\n",
        "pred_y = kmeans.fit_predict(arr) #수정 필요. 공부도...\n",
        "print(kmeans.labels_) # 이거 왜 [0,0]으로 출력되냐;;;\n",
        "colormap = np.array(['c', 'g', 'b', 'm', 'y', 'm'])\n",
        "#plt.scatter(arr[:0], arr[:0], s=5)\n",
        "plt.scatter(arr[:,0], arr[:,0], s=5, c=colormap[pred_y])\n",
        "print(kmeans.cluster_centers_)\n",
        "plt.scatter(kmeans.cluster_centers_[:,0], kmeans.cluster_centers_[:,1], s=100, c='red')\n",
        "plt.title('Clustering Results with Centers')\n",
        "plt.show()"
      ],
      "execution_count": null,
      "outputs": [
        {
          "output_type": "stream",
          "text": [
            "[1 1 3 ... 2 2 3]\n",
            "[[  270.01690821   270.01690821]\n",
            " [ 2945.87461774  2945.87461774]\n",
            " [ 6621.16216216  6621.16216216]\n",
            " [ 1584.67353952  1584.67353952]\n",
            " [ 4335.2         4335.2       ]\n",
            " [11048.         11048.        ]]\n"
          ],
          "name": "stdout"
        },
        {
          "output_type": "display_data",
          "data": {
            "image/png": "[encoded data removed]",
            "text/plain": [
              "<Figure size 432x288 with 1 Axes>"
            ]
          },
          "metadata": {
            "tags": [],
            "needs_background": "light"
          }
        }
      ]
    },
    {
      "cell_type": "code",
      "metadata": {
        "colab": {
          "base_uri": "https://localhost:8080/"
        },
        "id": "OyNsdPCVcsp-",
        "outputId": "6b246081-8b00-4bce-cfe9-08b491aeda2c"
      },
      "source": [
        "from sklearn.datasets.samples_generator import make_blobs\n",
        "\n",
        "a, b = make_blobs(n_samples=300, centers=4, cluster_std=0.06, random_state=0)\n",
        "print(a.shape)\n",
        "print(b.shape)\n",
        "print(type(a))\n",
        "print(type(b))\n",
        "print(a)"
      ],
      "execution_count": null,
      "outputs": [
        {
          "output_type": "stream",
          "text": [
            "(300, 2)\n",
            "(300,)\n",
            "<class 'numpy.ndarray'>\n",
            "<class 'numpy.ndarray'>\n",
            "[[ 1.93342645  1.02153323]\n",
            " [-1.26479601  7.79287634]\n",
            " [ 0.99416437  4.38337048]\n",
            " [-1.22529183  7.83340548]\n",
            " [ 1.97687591  0.9971515 ]\n",
            " [ 2.19350252  0.83406271]\n",
            " [-1.55503586  2.78579578]\n",
            " [ 1.02001551  4.3115263 ]\n",
            " [-1.14392341  7.89512368]\n",
            " [-1.19454016  7.91795786]\n",
            " [-1.54545088  2.90387426]\n",
            " [-1.39043099  7.88730315]\n",
            " [ 1.00290187  4.32380779]\n",
            " [-1.34621385  7.74139395]\n",
            " [ 1.9952546   0.80497739]\n",
            " [ 0.92402225  4.26905635]\n",
            " [ 0.98556692  4.32647708]\n",
            " [ 2.10667736  0.85860212]\n",
            " [-1.48090422  2.93925983]\n",
            " [-1.48207271  2.84654556]\n",
            " [ 2.1212471   0.93697948]\n",
            " [ 2.02745176  0.92655255]\n",
            " [ 0.95207946  4.37713403]\n",
            " [-1.57386176  2.9112589 ]\n",
            " [-1.56604163  2.8866109 ]\n",
            " [ 0.82309069  4.34300444]\n",
            " [ 2.01948868  0.89450962]\n",
            " [ 0.93811931  4.34437333]\n",
            " [-1.66223787  2.85653185]\n",
            " [ 0.89731563  4.27609225]\n",
            " [-1.17476354  7.83935138]\n",
            " [-1.3291313   7.78976561]\n",
            " [ 1.06591482  4.29147783]\n",
            " [-1.23655159  7.72856624]\n",
            " [-1.28785915  7.84600915]\n",
            " [-1.36536402  7.79586651]\n",
            " [-1.32503713  7.80033414]\n",
            " [-1.38557298  7.85054908]\n",
            " [-1.59451356  2.8740416 ]\n",
            " [ 2.01612301  0.87420646]\n",
            " [ 0.94562177  4.2329494 ]\n",
            " [-1.57275265  2.83161477]\n",
            " [ 0.87389387  4.42083385]\n",
            " [ 1.0331052   4.29448672]\n",
            " [-1.54441425  2.87219273]\n",
            " [-1.47640614  2.90291475]\n",
            " [-1.26127275  7.86218361]\n",
            " [-1.5294343   2.90066903]\n",
            " [-1.2713345   7.80882985]\n",
            " [ 2.04863508  0.95887402]\n",
            " [-1.56918603  2.9744779 ]\n",
            " [ 2.09525051  0.87002047]\n",
            " [-1.21286299  7.81362849]\n",
            " [ 2.01942856  0.88338836]\n",
            " [ 2.02538557  1.01343558]\n",
            " [-1.48527762  2.90830786]\n",
            " [-1.12758037  7.83278429]\n",
            " [-1.48830515  2.82364486]\n",
            " [-1.30406516  7.82474467]\n",
            " [ 1.98900452  0.90079356]\n",
            " [-1.34912887  7.78212173]\n",
            " [ 0.93581012  4.30569716]\n",
            " [-1.27842478  7.98020724]\n",
            " [-1.47803282  2.9214178 ]\n",
            " [-1.58517029  2.93677129]\n",
            " [-1.4928666   2.90452176]\n",
            " [-1.36924017  7.80309274]\n",
            " [ 2.08670098  0.90296899]\n",
            " [-1.3901062   7.83668007]\n",
            " [-1.52393431  2.94751247]\n",
            " [ 1.01086553  4.2912894 ]\n",
            " [-1.42294074  2.95895233]\n",
            " [-1.22714897  7.85821415]\n",
            " [-1.53471043  2.92351946]\n",
            " [-1.52458618  2.81847936]\n",
            " [-1.20197142  7.89722635]\n",
            " [-1.5499968   2.92354336]\n",
            " [ 0.99765206  4.34618172]\n",
            " [ 2.06378471  0.87850395]\n",
            " [-1.22697031  7.87247321]\n",
            " [ 1.97521201  0.81686061]\n",
            " [ 0.93821075  4.28202286]\n",
            " [ 1.97769611  0.91368671]\n",
            " [ 2.02269583  0.92262666]\n",
            " [-1.21833436  7.89833834]\n",
            " [ 0.97217558  4.40658789]\n",
            " [ 2.08666412  0.88737088]\n",
            " [ 0.92150075  4.3708083 ]\n",
            " [-1.32818847  7.71734253]\n",
            " [-1.26910281  7.80058391]\n",
            " [ 0.93158479  4.25420102]\n",
            " [ 2.02793557  0.89871241]\n",
            " [-1.31900525  7.9135457 ]\n",
            " [-1.54878563  2.92728449]\n",
            " [-1.49219272  2.93886153]\n",
            " [ 0.99505414  4.25254158]\n",
            " [ 1.98589658  0.94453555]\n",
            " [ 2.10987826  0.91669675]\n",
            " [ 0.90588267  4.4204046 ]\n",
            " [-1.68645435  2.95426143]\n",
            " [-1.18223871  7.91334133]\n",
            " [ 2.01665042  0.76425947]\n",
            " [-1.19170769  7.81940433]\n",
            " [ 2.08653141  0.86311638]\n",
            " [ 0.9838848   4.32790669]\n",
            " [ 2.07244814  0.93419429]\n",
            " [ 2.09367541  0.8006463 ]\n",
            " [ 1.01311484  4.35911973]\n",
            " [-1.25488514  7.73581803]\n",
            " [ 0.97690008  4.41093956]\n",
            " [-1.48050883  2.84684942]\n",
            " [-1.53492611  2.98254689]\n",
            " [ 2.00706294  0.85629067]\n",
            " [-1.34128154  7.86049914]\n",
            " [ 2.03311661  0.88330091]\n",
            " [ 1.08925912  4.22292178]\n",
            " [-1.28776895  7.80460598]\n",
            " [ 1.96029122  0.93428642]\n",
            " [ 2.01089374  0.99024454]\n",
            " [ 0.92459654  4.41839122]\n",
            " [-1.42801592  2.92773593]\n",
            " [ 2.01758227  0.86880203]\n",
            " [-1.47542858  2.98634837]\n",
            " [ 1.98393597  0.86725468]\n",
            " [ 1.99255232  0.97033238]\n",
            " [ 2.0542463   0.92041276]\n",
            " [ 2.0170213   0.87382735]\n",
            " [-1.51007751  2.85829484]\n",
            " [ 1.9628197   0.90145938]\n",
            " [-1.54810992  2.82089381]\n",
            " [-1.15745609  7.86864794]\n",
            " [-1.53800723  2.86942335]\n",
            " [-1.54296803  2.85020158]\n",
            " [ 2.09278141  0.8015402 ]\n",
            " [-1.26142824  7.77041782]\n",
            " [-1.49945908  2.86000554]\n",
            " [-1.6136961   2.96590014]\n",
            " [-1.33261355  7.80005656]\n",
            " [ 0.9274813   4.20021037]\n",
            " [-1.17737306  7.79754579]\n",
            " [-1.38263202  7.85954996]\n",
            " [-1.47887013  2.92257787]\n",
            " [ 1.00420982  4.21161271]\n",
            " [-1.53636403  3.05328567]\n",
            " [ 1.06556521  4.41754068]\n",
            " [-1.55061775  2.84831703]\n",
            " [-1.26161212  7.78067526]\n",
            " [ 0.87943621  4.29102291]\n",
            " [-1.2337287   7.7821368 ]\n",
            " [-1.30278157  7.81000096]\n",
            " [-1.27460715  7.84634032]\n",
            " [ 0.97457914  4.32948724]\n",
            " [-1.18356394  7.68190894]\n",
            " [ 0.90110236  4.35043675]\n",
            " [ 2.00646567  0.8096782 ]\n",
            " [-1.47760887  2.91819982]\n",
            " [-1.21565706  7.86180259]\n",
            " [-1.56282325  2.85092844]\n",
            " [ 2.03661435  0.90350767]\n",
            " [ 0.98876658  4.36238567]\n",
            " [-1.31664392  7.88255747]\n",
            " [ 0.94569095  4.27750287]\n",
            " [ 0.95303047  4.28564916]\n",
            " [ 2.01374453  0.98984628]\n",
            " [ 0.96018988  4.35193471]\n",
            " [-1.63748819  2.88920382]\n",
            " [-1.47032125  2.75350163]\n",
            " [ 0.90004098  4.36195113]\n",
            " [ 1.99321295  0.93855933]\n",
            " [ 1.00003048  4.23820364]\n",
            " [ 0.98691565  4.27968047]\n",
            " [-1.24603543  7.88153416]\n",
            " [ 1.99791082  0.87690475]\n",
            " [ 1.06823683  4.39194885]\n",
            " [-1.50656977  3.03914488]\n",
            " [-1.23842006  7.8412393 ]\n",
            " [ 2.09665661  0.97577443]\n",
            " [ 2.08084305  0.93827814]\n",
            " [ 0.93592245  4.28221414]\n",
            " [-1.47099311  2.93828016]\n",
            " [ 2.11223277  0.90291673]\n",
            " [ 1.04699685  4.29299184]\n",
            " [-1.59634533  2.89914473]\n",
            " [-1.53205986  2.92953984]\n",
            " [ 0.88679462  4.33015083]\n",
            " [ 1.02193234  4.31108783]\n",
            " [ 0.98491269  4.39104374]\n",
            " [ 0.95539535  4.31316827]\n",
            " [ 2.09675985  0.93934861]\n",
            " [-1.29659337  7.7683613 ]\n",
            " [ 0.9133569   4.21858625]\n",
            " [-1.47435405  2.91097581]\n",
            " [ 0.98026111  4.32193564]\n",
            " [ 0.93459601  4.29480926]\n",
            " [-1.58603466  2.82957216]\n",
            " [-1.51043303  2.86442736]\n",
            " [-1.6525802   2.92530558]\n",
            " [ 1.04386823  4.23899144]\n",
            " [-1.56817427  2.84503762]\n",
            " [-1.30491788  7.8497462 ]\n",
            " [ 0.99885561  4.23782328]\n",
            " [-1.47113371  2.95281574]\n",
            " [ 2.03672674  0.79710343]\n",
            " [-1.55491475  2.83286789]\n",
            " [ 1.00041058  4.26269872]\n",
            " [-1.27179911  7.65269143]\n",
            " [-1.5306016   2.91144394]\n",
            " [-1.19205123  7.92019968]\n",
            " [ 0.98627049  4.34188921]\n",
            " [-1.22102886  7.72567559]\n",
            " [ 1.01660776  4.32823504]\n",
            " [-1.53834322  2.89419129]\n",
            " [ 0.87845818  4.33155426]\n",
            " [ 1.05008752  4.37593012]\n",
            " [-1.2639545   7.82452533]\n",
            " [-1.4450321   2.87651531]\n",
            " [-1.46279345  2.89067911]\n",
            " [ 2.04817768  0.85685297]\n",
            " [ 2.14493659  0.77346456]\n",
            " [ 0.92183218  4.30690405]\n",
            " [-1.31005189  7.81446341]\n",
            " [ 2.1024472   0.86967851]\n",
            " [ 2.05380795  0.85338181]\n",
            " [-1.63225745  2.94493833]\n",
            " [ 2.01173168  0.81466182]\n",
            " [-1.63301632  2.93921117]\n",
            " [ 0.92300293  4.18493954]\n",
            " [-1.16910756  7.78251489]\n",
            " [-1.23629776  7.8324238 ]\n",
            " [ 1.0916466   4.39261821]\n",
            " [ 0.97901559  4.2925563 ]\n",
            " [-1.26277696  7.92655569]\n",
            " [ 0.95145294  4.25894004]\n",
            " [ 1.93909073  0.90899038]\n",
            " [-1.48499658  2.91810851]\n",
            " [ 0.95757693  4.30715725]\n",
            " [ 2.04729469  0.87979621]\n",
            " [-1.49911619  2.93462801]\n",
            " [-1.23119899  7.94002014]\n",
            " [-1.56106274  2.93407652]\n",
            " [ 2.12654931  0.91668022]\n",
            " [ 0.90636109  4.35783692]\n",
            " [ 2.19082606  0.89512823]\n",
            " [-1.28151435  7.80722176]\n",
            " [-1.27645775  7.82245613]\n",
            " [-1.30588604  7.78787297]\n",
            " [-1.29199845  7.84725346]\n",
            " [-1.53931823  2.970693  ]\n",
            " [-1.50465451  2.92640597]\n",
            " [-1.19650001  7.67612287]\n",
            " [ 1.11925877  4.3604561 ]\n",
            " [-1.52784494  2.92753795]\n",
            " [ 1.99860075  0.87306068]\n",
            " [ 0.93007511  4.33614228]\n",
            " [-1.55568336  2.95510376]\n",
            " [-1.56794467  3.01745531]\n",
            " [-1.43570432  3.02105762]\n",
            " [ 2.05291055  0.82757805]\n",
            " [ 2.06465791  0.91159452]\n",
            " [-1.26042959  7.82886705]\n",
            " [ 0.97007695  4.32842324]\n",
            " [ 0.91202492  4.36705443]\n",
            " [-1.59018172  2.96709713]\n",
            " [ 1.9864194   0.87139446]\n",
            " [-1.18054013  7.86522007]\n",
            " [-1.4747662   2.93449458]\n",
            " [ 1.02813625  4.25925743]\n",
            " [-1.18247496  7.82140707]\n",
            " [ 0.95016087  4.41474315]\n",
            " [ 2.06113102  0.93264088]\n",
            " [ 1.96982387  0.86806447]\n",
            " [-1.62879036  2.94111909]\n",
            " [-1.57008028  2.86910268]\n",
            " [ 1.11245536  4.21652539]\n",
            " [ 2.18506168  0.97785534]\n",
            " [ 2.03402789  0.81516658]\n",
            " [ 1.98174139  0.94832544]\n",
            " [ 1.08832362  4.35815001]\n",
            " [-1.2477381   7.86708027]\n",
            " [-1.30933829  7.83078873]\n",
            " [ 2.12440742  0.96244078]\n",
            " [ 2.11051905  0.91678732]\n",
            " [ 1.04463412  4.22969778]\n",
            " [ 2.08489203  0.89069742]\n",
            " [ 2.072063    0.89177464]\n",
            " [ 2.17262226  0.92106926]\n",
            " [-1.27930692  7.77673022]\n",
            " [-1.43890929  2.96903538]\n",
            " [-1.25611902  7.90344481]\n",
            " [ 0.97036293  4.26397863]\n",
            " [ 2.0792103   0.73130809]\n",
            " [ 2.03130058  0.91986701]\n",
            " [-1.23544697  7.7629456 ]\n",
            " [-1.28893732  7.91333076]\n",
            " [-1.25099801  7.84869047]\n",
            " [ 2.04711054  0.96587714]\n",
            " [ 2.10157495  0.94707391]\n",
            " [ 0.92254208  4.32700148]\n",
            " [-1.08648233  7.83102454]\n",
            " [-1.55335937  2.90106093]]\n"
          ],
          "name": "stdout"
        }
      ]
    }
  ]
}